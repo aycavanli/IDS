{
 "cells": [
  {
   "cell_type": "markdown",
   "metadata": {},
   "source": [
    "# 1. HOST-BASED INTRUSION DETECTION SYSTEM #"
   ]
  },
  {
   "cell_type": "code",
   "execution_count": null,
   "metadata": {},
   "outputs": [],
   "source": [
    "from os import listdir\n",
    "from os.path import isfile, join\n",
    "from sklearn.feature_extraction.text import TfidfVectorizer\n",
    "from sklearn.model_selection import train_test_split\n",
    "import numpy as np\n",
    "import pefile\n",
    "\n",
    "benign_corpus= []\n",
    "malicious_corpus = []\n",
    "\n",
    "#\tFile paths\n",
    "#Benign_Directory = \"C:\\\\Users\\\\aycav\\\\Desktop\\\\Benign_Samples\\\\Benign_Samples\"\n",
    "#Malware_Directory = \"C:\\\\Users\\\\aycav\\\\Desktop\\\\Malware Samples\"\n",
    "\n",
    "#\tTaking each file\n",
    "benign_exes = [f for f in listdir(Benign_Directory) if isfile(join(Benign_Directory, f))]\n",
    "malicious_exes = [f for f in listdir(Malware_Directory) if isfile(join(Malware_Directory, f))]"
   ]
  },
  {
   "cell_type": "code",
   "execution_count": 16,
   "metadata": {},
   "outputs": [
    {
     "name": "stdout",
     "output_type": "stream",
     "text": [
      "Benign: accicons.exe has INVALID PE\n",
      "Benign: accountscontrolhost.exe has INVALID PE\n",
      "Benign: AcroLayoutRecognizer.exe has INVALID PE\n",
      "Benign: actionuriserver.exe has INVALID PE\n",
      "Benign: addsuggestedfolderstolibrarydialog.exe has INVALID PE\n",
      "Benign: agentactivationruntimestarter.exe has INVALID PE\n",
      "Benign: agentservice.exe has INVALID PE\n",
      "Benign: aitstatic.exe has INVALID PE\n",
      "Benign: AnyDesk.exe has INVALID PE\n",
      "Benign: APO3GUI.exe has INVALID PE\n",
      "Benign: appcmd.exe has INVALID PE\n",
      "Benign: appidcertstorecheck.exe has INVALID PE\n",
      "Benign: appidpolicyconverter.exe has INVALID PE\n",
      "Benign: appidtel.exe has INVALID PE\n",
      "Benign: ApplicationActivationHelper.exe has INVALID PE\n",
      "Benign: applysettingstemplatecatalog.exe has INVALID PE\n",
      "Benign: ApplyTrustOffline.exe has INVALID PE\n",
      "Benign: appresolverux.exe has INVALID PE\n",
      "Benign: approvechildrequest.exe has INVALID PE\n",
      "Benign: appvclient.exe has INVALID PE\n",
      "Benign: AppVDllSurrogate.exe has INVALID PE\n",
      "Benign: AppVNice.exe has INVALID PE\n",
      "Benign: AppVShNotify.exe has INVALID PE\n",
      "Benign: AppVStreamingUX.exe has INVALID PE\n",
      "Benign: assignedaccesslockapp.exe has INVALID PE\n",
      "Benign: atbroker.exe has INVALID PE\n",
      "Benign: audiodg.exe has INVALID PE\n",
      "Benign: audit.exe has INVALID PE\n",
      "Benign: auditshd.exe has INVALID PE\n",
      "Benign: autochk.exe has INVALID PE\n",
      "Benign: autoconv.exe has INVALID PE\n",
      "Benign: autofmt.exe has INVALID PE\n",
      "Benign: axinstui.exe has INVALID PE\n",
      "Benign: bash.exe has INVALID PE\n",
      "Benign: bcdboot.exe has INVALID PE\n",
      "Benign: bcdedit.exe has INVALID PE\n",
      "Benign: bdechangepin.exe has INVALID PE\n",
      "Benign: bdeuisrv.exe has INVALID PE\n",
      "Benign: bdeunlock.exe has INVALID PE\n",
      "Benign: bevtcol.exe has INVALID PE\n",
      "Benign: bfsvc.exe has INVALID PE\n",
      "Benign: bioenrollmenthost.exe has INVALID PE\n",
      "Benign: bioiso.exe has INVALID PE\n",
      "Benign: bmrui.exe has INVALID PE\n",
      "Benign: BootExpCfg.exe has INVALID PE\n",
      "Benign: bootmgr.exe has INVALID PE\n",
      "Benign: browserexport.exe has INVALID PE\n",
      "Benign: browser_broker.exe has INVALID PE\n",
      "Benign: bytecodegenerator.exe has INVALID PE\n",
      "Benign: callingshellapp.exe has INVALID PE\n",
      "Benign: capturepicker.exe has INVALID PE\n",
      "Benign: certenrollctrl.exe has INVALID PE\n",
      "Benign: changepk.exe has INVALID PE\n",
      "Benign: chxsmartscreen.exe has INVALID PE\n",
      "Benign: clipup.exe has INVALID PE\n",
      "Benign: cloudexperiencehostbroker.exe has INVALID PE\n",
      "Benign: cloudnotifications.exe has INVALID PE\n",
      "Benign: cloudrecsvc.exe has INVALID PE\n",
      "Benign: clussvc.exe has INVALID PE\n",
      "Benign: cluster.exe has INVALID PE\n",
      "Benign: cmd.exe has INVALID PE\n",
      "Benign: cmdiag.exe has INVALID PE\n",
      "Benign: cmimageworker.exe has INVALID PE\n",
      "Benign: compact.exe has INVALID PE\n",
      "Benign: CompatTelRunner.exe has INVALID PE\n",
      "Benign: compmgmtlauncher.exe has INVALID PE\n",
      "Benign: computerdefaults.exe has INVALID PE\n",
      "Benign: cortanalistenui.exe has INVALID PE\n",
      "Benign: cprepsrv.exe has INVALID PE\n",
      "Benign: CPUDevCheck.exe has INVALID PE\n",
      "Benign: creddialoghost.exe has INVALID PE\n",
      "Benign: CredentialEnrollmentManager.exe has INVALID PE\n",
      "Benign: csc.ni.exe has INVALID PE\n",
      "Benign: csi.ni.exe has INVALID PE\n",
      "Benign: curl.exe has INVALID PE\n",
      "Benign: CustomInstallExec.exe has INVALID PE\n",
      "Benign: customshellhost.exe has INVALID PE\n",
      "Benign: dataexchangehost.exe has INVALID PE\n",
      "Benign: datastorecachedumptool.exe has INVALID PE\n",
      "Benign: dbcicons.exe has INVALID PE\n",
      "Benign: dcdiag.exe has INVALID PE\n",
      "Benign: dcgpofix.exe has INVALID PE\n",
      "Benign: ddpeval.exe has INVALID PE\n",
      "Benign: defrag.exe has INVALID PE\n",
      "Benign: deploymentcsphelper.exe has INVALID PE\n",
      "Benign: desktoplearningapp.exe has INVALID PE\n",
      "Benign: desktopview.exe has INVALID PE\n",
      "Benign: devicecensus.exe has INVALID PE\n",
      "Benign: deviceenroller.exe has INVALID PE\n",
      "Benign: devicesflowhost.exe has INVALID PE\n",
      "Benign: dfrgui.exe has INVALID PE\n",
      "Benign: dfsrs.exe has INVALID PE\n",
      "Benign: diagnosticshub.standardcollector.service.exe has INVALID PE\n",
      "Benign: diagtrackrunner.exe has INVALID PE\n",
      "Benign: directxdatabaseupdater.exe has INVALID PE\n",
      "Benign: diskperf.exe has INVALID PE\n",
      "Benign: dism.exe has INVALID PE\n",
      "Benign: djoin.exe has INVALID PE\n",
      "Benign: dns.exe has INVALID PE\n",
      "Benign: dnscacheugc.exe has INVALID PE\n",
      "Benign: dnscmd.exe has INVALID PE\n",
      "Benign: DPTopologyApp.exe has INVALID PE\n",
      "Benign: DPTopologyAppv2_0.exe has INVALID PE\n",
      "Benign: DrvInst.exe has INVALID PE\n",
      "Benign: drvload.exe has INVALID PE\n",
      "Benign: dsdbutil.exe has INVALID PE\n",
      "Benign: dsmgmt.exe has INVALID PE\n",
      "Benign: dsregcmd.exe has INVALID PE\n",
      "Benign: dstokenclean.exe has INVALID PE\n",
      "Benign: dtdump.exe has INVALID PE\n",
      "Benign: dts_apo_service.exe has INVALID PE\n",
      "Benign: dtuhandler.exe has INVALID PE\n",
      "Benign: dusmtask.exe has INVALID PE\n",
      "Benign: dwm.exe has INVALID PE\n",
      "Benign: dwwin.exe has INVALID PE\n",
      "Benign: dxdiag.exe has INVALID PE\n",
      "Benign: dxgiadaptercache.exe has INVALID PE\n",
      "Benign: easeofaccessdialog.exe has INVALID PE\n",
      "Benign: edpnotify.exe has INVALID PE\n",
      "Benign: environmentsapp.exe has INVALID PE\n",
      "Benign: eqnedt32.exe has INVALID PE\n",
      "Benign: explorer.exe has INVALID PE\n",
      "Benign: FaceFodUninstaller.exe has INVALID PE\n",
      "Benign: fcsrv.exe has INVALID PE\n",
      "Benign: fileexplorer.exe has INVALID PE\n",
      "Benign: filehistory.exe has INVALID PE\n",
      "Benign: filepicker.exe has INVALID PE\n",
      "Benign: fixmapi.exe has INVALID PE\n",
      "Benign: fmui.exe has INVALID PE\n",
      "Benign: fontdrvhost.exe has INVALID PE\n",
      "Benign: fsiso.exe has INVALID PE\n",
      "Benign: fsrmmsvr.exe has INVALID PE\n",
      "Benign: fxscover.exe has INVALID PE\n",
      "Benign: Gfxv2_0.exe has INVALID PE\n",
      "Benign: Gfxv4_0.exe has INVALID PE\n",
      "Benign: gpscript.exe has INVALID PE\n",
      "Benign: gpupdate.exe has INVALID PE\n",
      "Benign: grv_icons.exe has INVALID PE\n",
      "Benign: healthpih.exe has INVALID PE\n",
      "Benign: HelpPane.exe has INVALID PE\n",
      "Benign: holocameraapp.exe has INVALID PE\n",
      "Benign: holoitemplayerapp.exe has INVALID PE\n",
      "Benign: holoshellapp.exe has INVALID PE\n",
      "Benign: hvax64.exe has INVALID PE\n",
      "Benign: hvix64.exe has INVALID PE\n",
      "Benign: hvsimgr.exe has INVALID PE\n",
      "Benign: hvsirdpclient.exe has INVALID PE\n",
      "Benign: hvsirpcd.exe has INVALID PE\n",
      "Benign: icsentitlementhost.exe has INVALID PE\n",
      "Benign: ie4uinit.exe has INVALID PE\n",
      "Benign: iechooser.exe has INVALID PE\n",
      "Benign: iediagcmd.exe has INVALID PE\n",
      "Benign: iisrstas.exe has INVALID PE\n",
      "Benign: iissetup.exe has INVALID PE\n",
      "Benign: imebroker.exe has INVALID PE\n",
      "Benign: InputPersonalization.exe has INVALID PE\n",
      "Benign: instnm.exe has INVALID PE\n",
      "Benign: IntelliTrace.ni.exe has INVALID PE\n",
      "Benign: joticon.exe has INVALID PE\n",
      "Benign: launchtm.exe has INVALID PE\n",
      "Benign: launchwinapp.exe has INVALID PE\n",
      "Benign: ldp.exe has INVALID PE\n",
      "Benign: licensingui.exe has INVALID PE\n",
      "Benign: localbridge.exe has INVALID PE\n",
      "Benign: lockapp.exe has INVALID PE\n",
      "Benign: logman.exe has INVALID PE\n",
      "Benign: lpkinstall.exe has INVALID PE\n",
      "Benign: lpksetup.exe has INVALID PE\n",
      "Benign: lpremove.exe has INVALID PE\n",
      "Benign: lsaiso.exe has INVALID PE\n",
      "Benign: lsass.exe has INVALID PE\n",
      "Benign: LxRun.exe has INVALID PE\n",
      "Benign: lyncicon.exe has INVALID PE\n",
      "Benign: magnify.exe has INVALID PE\n",
      "Benign: mavinject.exe has INVALID PE\n",
      "Benign: mbr2gpt.exe has INVALID PE\n",
      "Benign: mcbuilder.exe has INVALID PE\n",
      "Benign: mdmagent.exe has INVALID PE\n",
      "Benign: mdmappinstaller.exe has INVALID PE\n",
      "Benign: mdmdiagnosticstool.exe has INVALID PE\n",
      "Benign: memtest.exe has INVALID PE\n",
      "Benign: Microsoft.AAD.BrokerPlugin.exe has INVALID PE\n",
      "Benign: Microsoft.Alm.Shared.Remoting.RemoteContainer.ni.exe has INVALID PE\n",
      "Benign: microsoft.asynctextservice.exe has INVALID PE\n",
      "Benign: microsoft.ecapp.exe has INVALID PE\n",
      "Benign: microsoft.storagemigration.proxy.service.exe has INVALID PE\n",
      "Benign: microsoft.storagemigration.service.exe has INVALID PE\n",
      "Benign: microsoft.uev.cscunpintool.exe has INVALID PE\n",
      "Benign: microsoft.uev.synccontroller.exe has INVALID PE\n",
      "Benign: microsoftedge.exe has INVALID PE\n",
      "Benign: microsoftpdfreader.exe has INVALID PE\n",
      "Benign: microsoftwebdriver.exe has INVALID PE\n",
      "Benign: mighost.exe has INVALID PE\n",
      "Benign: mip.exe has INVALID PE\n",
      "Benign: misc.exe has INVALID PE\n",
      "Benign: mmc.exe has INVALID PE\n",
      "Benign: mmgaserver.exe has INVALID PE\n",
      "Benign: modalsharepickerhost.exe has INVALID PE\n",
      "Benign: mousocoreworker.exe has INVALID PE\n",
      "Benign: mpnotify.exe has INVALID PE\n",
      "Benign: MSBuild.ni.exe has INVALID PE\n",
      "Benign: MSBuildTaskHost.ni.exe has INVALID PE\n",
      "Benign: msfeedssync.exe has INVALID PE\n",
      "Benign: MSOICONS.EXE has INVALID PE\n",
      "Benign: MSOUC.EXE has INVALID PE\n",
      "Benign: mspaint.exe has INVALID PE\n",
      "Benign: MsSense.exe has INVALID PE\n"
     ]
    },
    {
     "name": "stdout",
     "output_type": "stream",
     "text": [
      "Benign: MSTest.ni.exe has INVALID PE\n",
      "Benign: mstsc.exe has INVALID PE\n",
      "Benign: musnotification.exe has INVALID PE\n",
      "Benign: musnotificationux.exe has INVALID PE\n",
      "Benign: musnotifyicon.exe has INVALID PE\n",
      "Benign: MySQLWorkbench.exe has INVALID PE\n",
      "Benign: narrator.exe has INVALID PE\n",
      "Benign: narratorquickstart.exe has INVALID PE\n",
      "Benign: net1.exe has INVALID PE\n",
      "Benign: netdom.exe has INVALID PE\n",
      "Benign: nfsclnt.exe has INVALID PE\n",
      "Benign: nfssvc.exe has INVALID PE\n",
      "Benign: nltest.exe has INVALID PE\n",
      "Benign: nmbind.exe has INVALID PE\n",
      "Benign: nmscrub.exe has INVALID PE\n",
      "Benign: notepad.exe has INVALID PE\n",
      "Benign: ntdsutil.exe has INVALID PE\n",
      "Benign: ntoskrnl.exe has INVALID PE\n",
      "Benign: nvspinfo.exe has INVALID PE\n",
      "Benign: ocspsvc.exe has INVALID PE\n",
      "Benign: omadmclient.exe has INVALID PE\n",
      "Benign: oobeldr.exe has INVALID PE\n",
      "Benign: oobenetworkcaptiveportal.exe has INVALID PE\n",
      "Benign: oobenetworkconnectionflow.exe has INVALID PE\n",
      "Benign: openwith.exe has INVALID PE\n",
      "Benign: osk.exe has INVALID PE\n",
      "Benign: osmadminicon.exe has INVALID PE\n",
      "Benign: osmclienticon.exe has INVALID PE\n",
      "Benign: outicon.exe has INVALID PE\n",
      "Benign: pacjsworker.exe has INVALID PE\n",
      "Benign: PaintDotNet.ni.exe has INVALID PE\n",
      "Benign: passthrough.exe has INVALID PE\n",
      "Benign: pcalua.exe has INVALID PE\n",
      "Benign: peopleexperiencehost.exe has INVALID PE\n",
      "Benign: perceptionsimulationinput.exe has INVALID PE\n",
      "Benign: phoneactivate.exe has INVALID PE\n",
      "Benign: pinningconfirmationdialog.exe has INVALID PE\n",
      "Benign: pj11icon.exe has INVALID PE\n",
      "Benign: placesserver.exe has INVALID PE\n",
      "Benign: plasrv.exe has INVALID PE\n",
      "Benign: PnPUnattend.exe has INVALID PE\n",
      "Benign: PPTICO.EXE has INVALID PE\n",
      "Benign: printbrm.exe has INVALID PE\n",
      "Benign: PrintBrmEngine.exe has INVALID PE\n",
      "Benign: printbrmui.exe has INVALID PE\n",
      "Benign: printfilterpipelinesvc.exe has INVALID PE\n",
      "Benign: printui.exe has INVALID PE\n",
      "Benign: provtool.exe has INVALID PE\n",
      "Benign: proximityuxhost.exe has INVALID PE\n",
      "Benign: psr.exe has INVALID PE\n",
      "Benign: pubs.exe has INVALID PE\n",
      "Benign: pwcreator.exe has INVALID PE\n",
      "Benign: QTAgent.ni.exe has INVALID PE\n",
      "Benign: QTAgent32.ni.exe has INVALID PE\n",
      "Benign: QTAgent32_35.ni.exe has INVALID PE\n",
      "Benign: QTAgent32_40.ni.exe has INVALID PE\n",
      "Benign: QTAgent_35.ni.exe has INVALID PE\n",
      "Benign: QTAgent_40.ni.exe has INVALID PE\n",
      "Benign: QTDCAgent.ni.exe has INVALID PE\n",
      "Benign: QTDCAgent32.ni.exe has INVALID PE\n",
      "Benign: rdpclip.exe has INVALID PE\n",
      "Benign: rdpinit.exe has INVALID PE\n",
      "Benign: rdpinput.exe has INVALID PE\n",
      "Benign: rdpsa.exe has INVALID PE\n",
      "Benign: rdpsaproxy.exe has INVALID PE\n",
      "Benign: rdpshell.exe has INVALID PE\n",
      "Benign: rdpsign.exe has INVALID PE\n",
      "Benign: rdvghelper.exe has INVALID PE\n",
      "Benign: rdvgm.exe has INVALID PE\n",
      "Benign: recdisc.exe has INVALID PE\n",
      "Benign: Receiver.exe has INVALID PE\n",
      "Benign: recenv.exe has INVALID PE\n",
      "Benign: recoverydrive.exe has INVALID PE\n",
      "Benign: refsutil.exe has INVALID PE\n",
      "Benign: reg.exe has INVALID PE\n",
      "Benign: relog.exe has INVALID PE\n",
      "Benign: remindersserver.exe has INVALID PE\n",
      "Benign: reminderssharetargetapp.exe has INVALID PE\n",
      "Benign: remotefxvgpudisablement.exe has INVALID PE\n",
      "Benign: repadmin.exe has INVALID PE\n",
      "Benign: resetengine.exe has INVALID PE\n",
      "Benign: resetenginterfaces.exe has INVALID PE\n",
      "Benign: resetpluginhost.exe has INVALID PE\n",
      "Benign: rhs.exe has INVALID PE\n",
      "Benign: rollback.exe has INVALID PE\n",
      "Benign: roomadjustmentapp.exe has INVALID PE\n",
      "Benign: rsopprov.exe has INVALID PE\n",
      "Benign: rstrui.exe has INVALID PE\n",
      "Benign: runexehelper.exe has INVALID PE\n",
      "Benign: schtasks.exe has INVALID PE\n",
      "Benign: ScriptRunner.exe has INVALID PE\n",
      "Benign: sdbinst.exe has INVALID PE\n",
      "Benign: sdclt.exe has INVALID PE\n",
      "Benign: sdnapi.exe has INVALID PE\n",
      "Benign: searchfilterhost.exe has INVALID PE\n",
      "Benign: searchindexer.exe has INVALID PE\n",
      "Benign: searchprotocolhost.exe has INVALID PE\n",
      "Benign: searchui.exe has INVALID PE\n",
      "Benign: sechealthui.exe has INVALID PE\n",
      "Benign: secureassessmentbrowser.exe has INVALID PE\n",
      "Benign: securekernel.exe has INVALID PE\n",
      "Benign: securityhealthhost.exe has INVALID PE\n",
      "Benign: securityhealthservice.exe has INVALID PE\n",
      "Benign: securityhealthsystray.exe has INVALID PE\n",
      "Benign: SenseCE.exe has INVALID PE\n",
      "Benign: SenseCncProxy.exe has INVALID PE\n",
      "Benign: SenseIR.exe has INVALID PE\n",
      "Benign: SenseSampleUploader.exe has INVALID PE\n",
      "Benign: ServiceHub.Host.CLR.x64.ni.exe has INVALID PE\n",
      "Benign: ServiceHub.Host.CLR.x86.ni.exe has INVALID PE\n",
      "Benign: services.exe has INVALID PE\n",
      "Benign: sethc.exe has INVALID PE\n",
      "Benign: settingsynchost.exe has INVALID PE\n",
      "Benign: setup16.exe has INVALID PE\n",
      "Benign: setuphost.exe has INVALID PE\n",
      "Benign: setupprep.exe has INVALID PE\n",
      "Benign: setupugc.exe has INVALID PE\n",
      "Benign: shellexperiencehost.exe has INVALID PE\n",
      "Benign: ShellLauncherConfig.exe has INVALID PE\n",
      "Benign: sihclient.exe has INVALID PE\n",
      "Benign: skypebridge.exe has INVALID PE\n",
      "Benign: slui.exe has INVALID PE\n",
      "Benign: SmartAudio.ni.exe has INVALID PE\n",
      "Benign: smartscreen.exe has INVALID PE\n",
      "Benign: smi2smir.exe has INVALID PE\n",
      "Benign: smss.exe has INVALID PE\n",
      "Benign: SpatialAudioLicenseSrv.exe has INVALID PE\n",
      "Benign: spectrum.exe has INVALID PE\n",
      "Benign: speechmodeldownload.exe has INVALID PE\n",
      "Benign: speechruntime.exe has INVALID PE\n",
      "Benign: splwow64.exe has INVALID PE\n",
      "Benign: SppExtComObj.Exe has INVALID PE\n",
      "Benign: sppsvc.exe has INVALID PE\n",
      "Benign: srmhost.exe has INVALID PE\n",
      "Benign: srtasks.exe has INVALID PE\n",
      "Benign: srvinitconfig.exe has INVALID PE\n",
      "Benign: sscicons.exe has INVALID PE\n",
      "Benign: startmenuexperiencehost.exe has INVALID PE\n",
      "Benign: startrep.exe has INVALID PE\n",
      "Benign: sxstrace.exe has INVALID PE\n",
      "Benign: SyncAppvPublishingServer.exe has INVALID PE\n",
      "Benign: sysprep.exe has INVALID PE\n",
      "Benign: sysreset.exe has INVALID PE\n",
      "Benign: sysreseterr.exe has INVALID PE\n",
      "Benign: systemreset.exe has INVALID PE\n",
      "Benign: SystemSettings.exe has INVALID PE\n",
      "Benign: SystemSettingsAdminFlows.exe has INVALID PE\n",
      "Benign: systemuwplauncher.exe has INVALID PE\n",
      "Benign: tar.exe has INVALID PE\n",
      "Benign: targetmgr.exe has INVALID PE\n",
      "Benign: taskhostw.exe has INVALID PE\n",
      "Benign: taskmgr.exe has INVALID PE\n",
      "Benign: tcblaunch.exe has INVALID PE\n",
      "Benign: Teco.exe has INVALID PE\n",
      "Benign: Tempro.exe has INVALID PE\n",
      "Benign: TemproSvc.exe has INVALID PE\n",
      "Benign: THAToastSetting.exe has INVALID PE\n",
      "Benign: TokenBrokerCookies.exe has INVALID PE\n",
      "Benign: Toshiba.BlobDelivery.exe has INVALID PE\n",
      "Benign: Toshiba.Tempro.UI.CommonNotifier.exe has INVALID PE\n",
      "Benign: ToshibaLauncher.exe has INVALID PE\n",
      "Benign: ToshibaRegistration.exe has INVALID PE\n",
      "Benign: ToshibaTp.exe has INVALID PE\n",
      "Benign: ToshibaTp_Win8.exe has INVALID PE\n",
      "Benign: ToshibaUILauncher.exe has INVALID PE\n",
      "Benign: TPCHViewer.exe has INVALID PE\n",
      "Benign: tracerpt.exe has INVALID PE\n",
      "Benign: TrustedInstaller.exe has INVALID PE\n",
      "Benign: tssdis.exe has INVALID PE\n",
      "Benign: tswbprxy.exe has INVALID PE\n",
      "Benign: typeperf.exe has INVALID PE\n",
      "Benign: tzsync.exe has INVALID PE\n",
      "Benign: uevagentpolicygenerator.exe has INVALID PE\n",
      "Benign: uevappmonitor.exe has INVALID PE\n",
      "Benign: uevtemplatebaselinegenerator.exe has INVALID PE\n",
      "Benign: uevtemplateconfigitemgenerator.exe has INVALID PE\n",
      "Benign: uimgrbroker.exe has INVALID PE\n",
      "Benign: unpuxhost.exe has INVALID PE\n",
      "Benign: unpuxlauncher.exe has INVALID PE\n",
      "Benign: updatenotificationmgr.exe has INVALID PE\n",
      "Benign: upgraderesultsui.exe has INVALID PE\n",
      "Benign: upnpcont.exe has INVALID PE\n",
      "Benign: user.exe has INVALID PE\n",
      "Benign: useroobebroker.exe has INVALID PE\n",
      "Benign: usoclient.exe has INVALID PE\n",
      "Benign: usocoreworker.exe has INVALID PE\n",
      "Benign: utcdecoderhost.exe has INVALID PE\n",
      "Benign: utilman.exe has INVALID PE\n",
      "Benign: uwfservicingshell.exe has INVALID PE\n",
      "Benign: uwfservicingsvc.exe has INVALID PE\n",
      "Benign: vbc.ni.exe has INVALID PE\n",
      "Benign: VBCSCompiler.ni.exe has INVALID PE\n",
      "Benign: VcxprojReader.ni.exe has INVALID PE\n",
      "Benign: vds.exe has INVALID PE\n",
      "Benign: vdsldr.exe has INVALID PE\n",
      "Benign: vfpctrl.exe has INVALID PE\n",
      "Benign: visicon.exe has INVALID PE\n",
      "Benign: vmcompute.exe has INVALID PE\n",
      "Benign: VmComputeAgent.exe has INVALID PE\n",
      "Benign: vmconnect.exe has INVALID PE\n",
      "Benign: vmconnect6.2.exe has INVALID PE\n",
      "Benign: vmconnect6.3.exe has INVALID PE\n",
      "Benign: vmms.exe has INVALID PE\n",
      "Benign: vmwp.exe has INVALID PE\n",
      "Benign: vssvc.exe has INVALID PE\n",
      "Benign: VSWebHandler.ni.exe has INVALID PE\n",
      "Benign: waasmedicagent.exe has INVALID PE\n",
      "Benign: wbadmin.exe has INVALID PE\n"
     ]
    },
    {
     "name": "stdout",
     "output_type": "stream",
     "text": [
      "Benign: wbengine.exe has INVALID PE\n",
      "Benign: wcsetupagent.exe has INVALID PE\n",
      "Benign: wdscapture.exe has INVALID PE\n",
      "Benign: wdsmcast.exe has INVALID PE\n",
      "Benign: webmanagement.exe has INVALID PE\n",
      "Benign: WerFault.exe has INVALID PE\n",
      "Benign: WerFaultSecure.exe has INVALID PE\n",
      "Benign: wermgr.exe has INVALID PE\n",
      "Benign: wfs.exe has INVALID PE\n",
      "Benign: WHAT.EXE has INVALID PE\n",
      "Benign: whatsnewapp.exe has INVALID PE\n",
      "Benign: WiDiToast.exe has INVALID PE\n",
      "Benign: wifitask.exe has INVALID PE\n",
      "Benign: wimserv.exe has INVALID PE\n",
      "Benign: win32webviewhost.exe has INVALID PE\n",
      "Benign: winbiodatamodeloobe.exe has INVALID PE\n",
      "Benign: windeploy.exe has INVALID PE\n",
      "Benign: windowsinternal.composableshell.experiences.textinput.inputapp.exe has INVALID PE\n",
      "Benign: windowssandbox.exe has INVALID PE\n",
      "Benign: wininit.exe has INVALID PE\n",
      "Benign: winload.exe has INVALID PE\n",
      "Benign: winlogon.exe has INVALID PE\n",
      "Benign: winpeshl.exe has INVALID PE\n",
      "Benign: winrecfg.exe has INVALID PE\n",
      "Benign: winresume.exe has INVALID PE\n",
      "Benign: winsat.exe has INVALID PE\n",
      "Benign: WirelessDisplay.ConnectionConfirmation.exe has INVALID PE\n",
      "Benign: WirelessDisplay.WindowProxy.exe has INVALID PE\n",
      "Benign: wkspbroker.exe has INVALID PE\n",
      "Benign: wksprt.exe has INVALID PE\n",
      "Benign: wlrmdr.exe has INVALID PE\n",
      "Benign: wmprph.exe has INVALID PE\n",
      "Benign: WORDICON.EXE has INVALID PE\n",
      "Benign: wordpad.exe has INVALID PE\n",
      "Benign: workfolders.exe has INVALID PE\n",
      "Benign: wpcmon.exe has INVALID PE\n",
      "Benign: wpctok.exe has INVALID PE\n",
      "Benign: wpcuapapp.exe has INVALID PE\n",
      "Benign: wpeinit.exe has INVALID PE\n",
      "Benign: wpr.exe has INVALID PE\n",
      "Benign: WRU.exe has INVALID PE\n",
      "Benign: wsl.exe has INVALID PE\n",
      "Benign: wslconfig.exe has INVALID PE\n",
      "Benign: wslhost.exe has INVALID PE\n",
      "Benign: wsmanhttpconfig.exe has INVALID PE\n",
      "Benign: wsmprovhost.exe has INVALID PE\n",
      "Benign: wsqmcons.exe has INVALID PE\n",
      "Benign: wsreset.exe has INVALID PE\n",
      "Benign: wuauclt.exe has INVALID PE\n",
      "Benign: wvrsvc.exe has INVALID PE\n",
      "Benign: wwahost.exe has INVALID PE\n",
      "Benign: xblgamesavetask.exe has INVALID PE\n",
      "Benign: xbox.tcui.exe has INVALID PE\n",
      "Benign: xgpuejectdialog.exe has INVALID PE\n",
      "Benign: XLICONS.EXE has INVALID PE\n",
      "Benign Corpus is collected\n"
     ]
    }
   ],
   "source": [
    "#\tGenerating benign exes' dlls\n",
    "for f in benign_exes:\n",
    "\tfilePath = join(Benign_Directory, f)\n",
    "\ttry:\n",
    "\t\tpe = pefile.PE(filePath)\n",
    "\t\timportList = []\n",
    "\t\tfor entry in pe.DIRECTORY_ENTRY_IMPORT:\n",
    "\t\t\tdll = str(entry.dll)\n",
    "\t\t\tdll = dll[1:].replace(\"'\",\"\")\n",
    "\t\t\tdll = dll.lower()\n",
    "\t\t\tdll = dll.split(\".\")[0]\n",
    "\t\t\timportList.append(dll)\n",
    "\t\tdlls = \" \".join(importList)\n",
    "\t\tbenign_corpus.append(dlls)\n",
    "\texcept:\n",
    "\t\tprint(\"Benign: \" + f + \" has INVALID PE\")\n",
    "\t\tcontinue\n",
    "print(\"Benign Corpus is collected\")"
   ]
  },
  {
   "cell_type": "code",
   "execution_count": 27,
   "metadata": {},
   "outputs": [
    {
     "name": "stdout",
     "output_type": "stream",
     "text": [
      "Malicious: 027cc450ef5f8c5f653329641ec1fed9.exe has invalid PE\n",
      "Malicious: GREEN.EXE has invalid PE\n",
      "Malicious: malware.exe has invalid PE\n",
      "Malicious: soy.exe has invalid PE\n",
      "Malicious: TOKYO_1258.EXE has invalid PE\n",
      "Malicious: Y-L3052.EXE has invalid PE\n",
      "Malicious: Y-TP46.EXE has invalid PE\n",
      "Malicious: YAUNCH.EXE has invalid PE\n",
      "Malicious: YEKE1204.EXE has invalid PE\n",
      "Malicious: YESMILE.EXE has invalid PE\n",
      "Malicious: ZHR1958.EXE has invalid PE\n",
      "Malicious: ZHR2970.EXE has invalid PE\n",
      "Malicious corpus is collected\n"
     ]
    }
   ],
   "source": [
    "#\tGenerating malware exes' dlls\n",
    "for f in malicious_exes:\n",
    "\tfilePath = join(Malware_Directory, f)\n",
    "\ttry:\n",
    "\t\tpe = pefile.PE(filePath)\n",
    "\t\timportList = []\n",
    "\t\tfor entry in pe.DIRECTORY_ENTRY_IMPORT:\n",
    "\t\t\tdll = str(entry.dll)\n",
    "\t\t\tdll = dll[1:].replace(\"'\",\"\")\n",
    "\t\t\tdll = dll.lower()\n",
    "\t\t\tdll = dll.split(\".\")[0]\n",
    "\t\t\timportList.append(dll)\n",
    "\t\tdlls = \" \".join(importList)\n",
    "\t\tmalicious_corpus.append(dlls)\n",
    "\texcept:\n",
    "\t\tprint(\"Malicious: \" + f + \" has invalid PE\")\n",
    "\t\tcontinue\n",
    "print(\"Malicious corpus is collected\")"
   ]
  },
  {
   "cell_type": "code",
   "execution_count": 28,
   "metadata": {},
   "outputs": [
    {
     "name": "stdout",
     "output_type": "stream",
     "text": [
      "\n",
      "Number of benign samples:\n",
      "2174\n",
      "\n",
      "Number of malicious samples:\n",
      "133\n"
     ]
    }
   ],
   "source": [
    "#\tNumber of Benign Exes\n",
    "numBenign = len(benign_corpus)\n",
    "print()\n",
    "print(\"Number of benign samples:\")\n",
    "print(numBenign)\n",
    "\n",
    "#\tNumber of Malicious Exes\n",
    "numMal = len(malicious_corpus)\n",
    "print()\n",
    "print(\"Number of malicious samples:\")\n",
    "print(numMal)\n",
    "target = numBenign*[0] + numMal*[1]"
   ]
  },
  {
   "cell_type": "code",
   "execution_count": 29,
   "metadata": {},
   "outputs": [
    {
     "name": "stdout",
     "output_type": "stream",
     "text": [
      "2307\n"
     ]
    }
   ],
   "source": [
    "#\tcombining corpus\n",
    "corpus = benign_corpus + malicious_corpus\n",
    "\n",
    "print(len(corpus))"
   ]
  },
  {
   "cell_type": "code",
   "execution_count": 13,
   "metadata": {},
   "outputs": [
    {
     "name": "stdout",
     "output_type": "stream",
     "text": [
      "['advapi32 kernel32 msvcrt shell32', 'kernel32 user32 advapi32 shell32 msvcp140 vcruntime140 api-ms-win-crt-runtime-l1-1-0 api-ms-win-crt-string-l1-1-0 api-ms-win-crt-filesystem-l1-1-0 api-ms-win-crt-heap-l1-1-0 api-ms-win-crt-stdio-l1-1-0 api-ms-win-crt-math-l1-1-0 api-ms-win-crt-locale-l1-1-0', '3dviewer', 'kernel32 user32 advapi32 shell32', 'oleaut32 user32 advapi32 msvcrt kernel32', 'oleaut32 user32 advapi32 msvcrt kernel32', 'comctl32 comdlg32 gdi32 oleaut32 ole32 user32 advapi32 shell32 msvcrt kernel32', 'comctl32 comdlg32 gdi32 oleaut32 ole32 user32 advapi32 shell32 msvcrt kernel32', 'shell32 kernel32', 'kernel32']\n",
      "['kernel32 user32 advapi32 shell32 ole32 crypt32 shlwapi iphlpapi ws2_32 mpr netapi32 dhcpsapi msvcrt', 'mscoree', 'mscoree', 'shlwapi kernel32 user32 advapi32 shell32', 'kernel32 advapi32 msvcrt user32', 'kernel32 advapi32 psapi shell32 shlwapi urlmon wininet', 'mscoree', 'kernel32 user32 gdi32 shell32 advapi32 comctl32 ole32 version', 'advapi32 comctl32 gdi32 kernel32 ole32 shell32 user32 version', 'kernel32 msvcrt msvcrt']\n"
     ]
    }
   ],
   "source": [
    "print(benign_corpus[0:10])\n",
    "print(malicious_corpus[0:10])"
   ]
  },
  {
   "cell_type": "code",
   "execution_count": 14,
   "metadata": {},
   "outputs": [
    {
     "name": "stdout",
     "output_type": "stream",
     "text": [
      "['10', '14', '19', '1_1', '1_49', '20', '26', '30', '3dviewer', 'aahook', 'aahook_x64', 'access', 'ace', 'aclui', 'ad_globals', 'ad_log', 'adefs', 'adencrypt', 'adfs_globals', 'adisodll', 'adshattrdefs', 'advapi32', 'amsi', 'ansi', 'api', 'apiclient', 'apiquery', 'app', 'appcontainer', 'apphelp', 'appmodel', 'appvisvsubsystems32', 'appvisvsubsystems64', 'appvmanifest', 'appvpolicy', 'appwiz', 'assuan', 'atl', 'atl100', 'audit', 'auditpolcore', 'authz', 'base', 'basichttp', 'batchparser', 'batmeter', 'batmgrdll', 'bcd', 'bcrypt', 'bdehdcfglib', 'bderepair', 'bdeui', 'bindctx', 'boost_date_time', 'boost_regex', 'boost_thread', 'bootux', 'bthprops', 'bz2', 'c10', 'c10_cuda', 'c_3_1', 'cabinet', 'caffe2', 'caffe2_gpu', 'capability', 'ccl', 'certcli', 'certenroll', 'cfgmgr32', 'charset', 'chrome_elf', 'classicprovider', 'classinstallers', 'clb', 'clbcatq', 'clipc', 'clusapi', 'cmpbk32', 'cmutil', 'colorui', 'com', 'combase', 'comctl32', 'comdlg32', 'comerr64', 'common', 'compdat', 'compute', 'computenetwork', 'comsvcs', 'concrt140', 'concrt140_app', 'config', 'conio', 'console', 'consumer', 'controller', 'convert', 'core', 'coremessaging', 'coreuicomponents', 'cortana', 'credentials', 'credui', 'crt', 'crypt', 'crypt32', 'cryptbase', 'crypto', 'cryptoapi', 'cryptsp', 'cryptui', 'cryptxml', 'csrsrv', 'cublas64_90', 'cudart64_101', 'cudart64_90', 'cximage', 'cygwin1', 'd2d1', 'd3d11', 'd3d9', 'd3dcompiler_47', 'da7zip', 'datetime', 'db', 'dbghelp', 'dc', 'dcomp', 'debug', 'delayload', 'devcaps', 'deviceassociation', 'devicecredential', 'devices', 'devobj', 'dfpcommon', 'dhcpcsvc', 'dhcpcsvc6', 'dhcpsapi', 'difxapi', 'dinput8', 'dismapi', 'dmcmnutils', 'dmenrollengine', 'dmprocessxmlfiltered', 'dmpushproxy', 'dmxmlhelputils', 'dnsapi', 'downlevel', 'dpi', 'dpiinfo', 'dpx', 'draw', 'drvstore', 'dsclient', 'dsound', 'dsparse', 'dsreg', 'dsrole', 'dui70', 'duser', 'dusmapi', 'dwmapi', 'dwrite', 'dxgi', 'dxva2', 'edgeiso', 'edit', 'efsadu', 'efsutil', 'enclave', 'environment', 'error', 'errorhandling', 'esent', 'esscli', 'eventing', 'eventlog', 'ext', 'fastprox', 'featurestaging', 'feclient', 'fhsvcctl', 'fibers', 'file', 'filesystem', 'firewallapi', 'firmware', 'fltlib', 'fontsub', 'framedynos', 'fusion', 'fveapi', 'fveskybackup', 'fvewiz', 'fwpuclnt', 'fxsapi', 'fxstiff', 'gamepanelexternalhook', 'gcc_s', 'gcrypt', 'gdal', 'gdi', 'gdi32', 'gdiplus', 'gethelp', 'gettextlib', 'gettextsrc', 'getuname', 'gio', 'glib', 'glibmm', 'gmodule', 'gmp', 'gmsaclient', 'gmscommon', 'gnutls', 'gobject', 'googleurl', 'gpg', 'grapher', 'gssapi', 'gssapi64', 'gui', 'gvmomi', 'hal', 'handle', 'harness', 'hdf5', 'hdf5_tools', 'heap', 'helpers', 'hid', 'hlink', 'hogweed', 'httpapi', 'hvsisettingsprovider', 'hxcalendar', 'hxoutlook', 'hxoutlookbackground', 'hyperv', 'iconv', 'icuin58', 'icuio58', 'icutu58', 'icuuc44', 'icuuc58', 'ie', 'iertutil', 'ifsutil', 'iisexpresshelper', 'iisutil', 'iisutil2', 'imagehlp', 'imm32', 'interlocked', 'internal', 'intl', 'io', 'iphlpapi', 'iscsidsc', 'iscsium', 'iumbase', 'iumcrypt', 'iumsdk', 'jli', 'job', 'k5sprt64', 'kafs', 'kernel32', 'kernelbase', 'keyboard', 'kit', 'krb5', 'krb5_64', 'ksba', 'ktmw32', 'l1', 'l2', 'l3', 'largeinteger', 'legacy', 'libbz2', 'libcares', 'libcef', 'libcrypto', 'libcurl', 'libeay32', 'libexpat', 'libexslt', 'libgcc_s_seh', 'libgnutls', 'libiconv', 'libintl', 'libiomp5md', 'libjansson', 'libjemalloc', 'libjpeg', 'liblz4', 'liblzma', 'libmysql', 'libnettle', 'libnghttp2', 'libpcre2', 'libpcreposix', 'libpng16', 'libprotobuf', 'library', 'libraryloader', 'libssl', 'libssp', 'libstdc', 'libsystre', 'libtasn1', 'libtre', 'libwinpthread', 'libxml2', 'libxslt', 'libzstd', 'lms', 'loadperf', 'locale', 'localization', 'lockhostingframework', 'loggingplatform', 'logon', 'logoncli', 'lprhelp', 'lsa', 'lsalookup', 'lsapolicy', 'magic', 'magnification', 'maintenanceui', 'management', 'maps', 'math', 'mbaexmlparser', 'memory', 'menu', 'message', 'mfc100u', 'mfc140', 'mfc140u', 'mfc42', 'mfc42u', 'mfcore', 'mfplat', 'mi', 'microsoft', 'misc', 'mmdevapi', 'mobilenetworking', 'mpclient', 'mpfr', 'mpr', 'mqqm', 'mqrt', 'mqsec', 'mqutil', 'ms', 'mscms', 'mscoree', 'msctf', 'msctfmonitor', 'msctfp', 'msdrm', 'msdtctm', 'msedge_elf', 'msi', 'msimg32', 'mso20imm', 'mso30imm', 'mso40uiimm', 'mso98imm', 'msocr', 'msohev', 'msoimm', 'mstlsapi', 'msvcp100', 'msvcp110', 'msvcp110_win', 'msvcp120', 'msvcp140', 'msvcp140_app', 'msvcp140_clr0400', 'msvcp140d', 'msvcp80', 'msvcp90', 'msvcp_win', 'msvcr100', 'msvcr110', 'msvcr120', 'msvcr71', 'msvcr80', 'msvcr90', 'msvcrt', 'msvfw32', 'mswsock', 'msys', 'mt', 'multibyte', 'murocapi', 'namedpipe', 'nativrd2', 'ncobjapi', 'ncrypt', 'ncursesw6', 'netapi32', 'netplwiz', 'nettle', 'netutils', 'networking', 'newdev', 'nfc', 'ninput', 'normaliz', 'npth', 'nsi', 'ntdll', 'ntdsa', 'ntdsapi', 'ntmarta', 'ntoskrnl', 'ntuser', 'nvcuda', 'nvml', 'nvstreambase', 'object', 'obsolete', 'odbc32', 'office', 'ole32', 'oleacc', 'oleaut32', 'oledlg', 'olepro32', 'omadmapi', 'oneclient', 'onmainim', 'opends60', 'opengl32', 'osuninst', 'p11', 'packet', 'path', 'pcre', 'pdh', 'peopleapp', 'perfcounters', 'perl5_26', 'php7', 'pilotshubapp', 'poco', 'policymanager', 'power', 'powermanagement', 'powrprof', 'private', 'privateprofile', 'processenvironment', 'processthreads', 'processtopology', 'profapi', 'profile', 'profuis293ad32', 'propsys', 'provider', 'prvdmofcomp', 'psapi', 'psl', 'pthreadvc', 'python27', 'python37', 'pywintypes37', 'qds', 'qt5core', 'qt5dbus', 'qt5designer', 'qt5designercomponents', 'qt5gui', 'qt5help', 'qt5multimedia', 'qt5network', 'qt5printsupport', 'qt5qml', 'qt5quick', 'qt5quicktest', 'qt5script', 'qt5scripttools', 'qt5serialbus', 'qt5sql', 'qt5svg', 'qt5webenginecore', 'qt5webenginewidgets', 'qt5webkit', 'qt5webkitwidgets', 'qt5widgets', 'qt5xml', 'qt5xmlpatterns', 'query', 'rasapi32', 'rasdlg', 'readline7', 'reagent', 'realtime', 'rectangle', 'regapi', 'registry', 'rgraphapp', 'rim', 'rmclient', 'robuffer', 'rpcrt4', 'rstrtmgr', 'rtcore', 'rtinfo', 'rtlsupport', 'rtutils', 'runtime', 'samcli', 'samlib', 'sas', 'sasl2', 'scaling', 'scansetting', 'scecli', 'schedcli', 'sddl', 'sddlparsecond', 'secur32', 'security', 'seh', 'sensapi', 'service', 'setting', 'setupapi', 'sfbappsdk', 'sfc', 'sharedmemoryuwp', 'sharedui', 'shcore', 'shdirectory', 'shell', 'shell32', 'shellcom', 'shellfolders', 'shfolder', 'shlwapi', 'shutdown', 'sidebyside', 'sigc', 'skypeapp', 'slc', 'smartcols', 'snmpapi', 'sqldk', 'sqlite', 'sqlite3', 'sqllang', 'sqlmin', 'sqlncli11', 'sqlos', 'sqltses', 'srvcli', 'ssleay32', 'sspicli', 'stat', 'state', 'stateseparation', 'statuseventhandler', 'stdio', 'sti', 'storage', 'storeexperiencehost', 'stream', 'string', 'sucmlib', 'synch', 'sysdm', 'sysinfo', 'sysparams', 'tadomgr', 'tapi32', 'taskpool', 'tasn1', 'tbs', 'tcapture', 'tcapture_x64', 'tcl86t', 'tcrdevnt', 'tcrdmain', 'tcui', 'tdh', 'tecohci', 'tecopower', 'tecotoastmgr', 'telemetry', 'telemetryuwp', 'themes', 'thread', 'threadpool', 'ticw6', 'tidentifying', 'tiff', 'time', 'timezone', 'tk86t', 'tlsbrand', 'tmessagebox', 'toolhelp', 'tpmcoreprovisioning', 'tpmengum', 'tpscdll', 'trmclcherres', 'trustee', 'ttdrecord', 'types', 'ucrtbase_clr0400', 'ucrtbased', 'uiautomationcore', 'uipathjavabridgev8', 'uipathjavabridgev8_x64', 'uipathslb', 'uipathslb_x64', 'ulib', 'umpdc', 'unbcl', 'unlock', 'updateringsettings', 'url', 'urlmon', 'user32', 'userenv', 'usp10', 'utgen', 'util', 'utildll', 'utility', 'uxtheme', 'vaultcli', 'vc100', 'vccorlib140', 'vccorlib140_app', 'vcruntime140', 'vcruntime140_1', 'vcruntime140_app', 'vcruntime140_clr0400', 'vcruntime140d', 'version', 'versionansi', 'vim', 'virtdisk', 'vix', 'vixdiskmountapi', 'vmacore', 'vmappcfg', 'vmapputil', 'vmclientcore', 'vmdbcom', 'vmomi', 'vmwarebase', 'vmwarecui', 'vmwarestring', 'vmwarewui', 'vnetlib', 'vsdbg', 'vsdebugeng', 'vssapi', 'vsstrace', 'vulkan', 'wbemcomn', 'wdi', 'wdscore', 'webengine4', 'webservices', 'wecapi', 'wer', 'wevtapi', 'whatsnew', 'wimgapi', 'win', 'winbrand', 'wincorlib', 'window', 'windowclass', 'windows', 'windowscamera', 'windowscodecs', 'windowserrorreporting', 'winhttp', 'wininet', 'winmde', 'winmm', 'winpty', 'winrt', 'winscard', 'winspool', 'winsta', 'winstore', 'winsvc', 'winsync', 'wintrust', 'wkscli', 'wlanapi', 'wldap32', 'wmiclnt', 'wmpdui', 'wmpointer', 'wmsgapi', 'wow64', 'wpcap', 'ws2_32', 'wscapi', 'wsdapi', 'wsmanclient', 'wsmsvc', 'wsock32', 'wtsapi32', 'wudfplatform', 'wwan', 'wwapi', 'x64', 'xboxapp', 'xboxidp', 'xerces', 'xmllite', 'xspice32', 'zlib', 'zlib1']\n"
     ]
    }
   ],
   "source": [
    "#\tvectorizing\n",
    "vectorizer = TfidfVectorizer()\n",
    "response = vectorizer.fit_transform(corpus)\n",
    "\n",
    "print(vectorizer.get_feature_names())"
   ]
  },
  {
   "cell_type": "code",
   "execution_count": 15,
   "metadata": {},
   "outputs": [
    {
     "name": "stdout",
     "output_type": "stream",
     "text": [
      "  (0, 546)\t0.6184229637164015\n",
      "  (0, 398)\t0.5404658886689443\n",
      "  (0, 271)\t0.30570931604172263\n",
      "  (0, 21)\t0.4816549337635947\n",
      "  (1, 683)\t0.41530100358185346\n",
      "  (1, 646)\t0.07736845959520693\n",
      "  (1, 634)\t0.0569686039198615\n",
      "  (1, 578)\t0.06822231130956898\n",
      "  (1, 573)\t0.0756461676855527\n",
      "  (1, 546)\t0.06658749493634097\n",
      "  (1, 521)\t0.07064926935023087\n",
      "  (1, 385)\t0.0929947897499657\n",
      "  (1, 362)\t0.41530100358185346\n",
      "  (1, 338)\t0.07545399705921152\n",
      "  (1, 323)\t0.07507351214062637\n",
      "  (1, 279)\t0.41530100358185346\n",
      "  (1, 271)\t0.03291665854642419\n",
      "  (1, 232)\t0.06370196831274529\n",
      "  (1, 187)\t0.09116130742074226\n",
      "  (1, 105)\t0.4949225946089245\n",
      "  (1, 24)\t0.41530100358185346\n",
      "  (1, 21)\t0.05186126218585049\n",
      "  (2, 8)\t1.0\n",
      "  (3, 634)\t0.5323375132606011\n",
      "  (3, 546)\t0.6222202938047845\n",
      "  :\t:\n",
      "  (2326, 21)\t0.1807049081214414\n",
      "  (2327, 634)\t0.5323375132606011\n",
      "  (2327, 546)\t0.6222202938047845\n",
      "  (2327, 271)\t0.3075864765810531\n",
      "  (2327, 21)\t0.48461246102165\n",
      "  (2328, 693)\t0.6388572293268046\n",
      "  (2328, 634)\t0.2749305251173707\n",
      "  (2328, 550)\t0.3872407656054066\n",
      "  (2328, 271)\t0.1588558187595409\n",
      "  (2328, 107)\t0.5276767384957975\n",
      "  (2328, 21)\t0.25028249008985337\n",
      "  (2329, 692)\t0.41348052745562813\n",
      "  (2329, 641)\t0.3807645005529794\n",
      "  (2329, 634)\t0.15292749363103708\n",
      "  (2329, 550)\t0.21539899831245443\n",
      "  (2329, 546)\t0.1787486090076675\n",
      "  (2329, 434)\t0.20035404438596177\n",
      "  (2329, 398)\t0.15621594197457597\n",
      "  (2329, 372)\t0.39222530932282834\n",
      "  (2329, 271)\t0.0883620405599988\n",
      "  (2329, 206)\t0.3469429124167662\n",
      "  (2329, 205)\t0.23953292338537394\n",
      "  (2329, 107)\t0.29351517453768516\n",
      "  (2329, 83)\t0.26989983490500236\n",
      "  (2329, 21)\t0.13921725822491382\n"
     ]
    }
   ],
   "source": [
    "transformed_corpus = vectorizer.transform(corpus)\n",
    "\n",
    "#the number will represent the weights\n",
    "print(transformed_corpus)"
   ]
  },
  {
   "cell_type": "code",
   "execution_count": 18,
   "metadata": {},
   "outputs": [
    {
     "ename": "NameError",
     "evalue": "name 'corpus' is not defined",
     "output_type": "error",
     "traceback": [
      "\u001b[1;31m---------------------------------------------------------------------------\u001b[0m",
      "\u001b[1;31mNameError\u001b[0m                                 Traceback (most recent call last)",
      "\u001b[1;32m<ipython-input-18-3cc0cb4cb71c>\u001b[0m in \u001b[0;36m<module>\u001b[1;34m\u001b[0m\n\u001b[0;32m      1\u001b[0m \u001b[1;32mfrom\u001b[0m \u001b[0msklearn\u001b[0m\u001b[1;33m.\u001b[0m\u001b[0mmodel_selection\u001b[0m \u001b[1;32mimport\u001b[0m \u001b[0mtrain_test_split\u001b[0m\u001b[1;33m\u001b[0m\u001b[1;33m\u001b[0m\u001b[0m\n\u001b[1;32m----> 2\u001b[1;33m \u001b[0mX\u001b[0m \u001b[1;33m=\u001b[0m \u001b[0mcorpus\u001b[0m\u001b[1;33m\u001b[0m\u001b[1;33m\u001b[0m\u001b[0m\n\u001b[0m\u001b[0;32m      3\u001b[0m \u001b[0my\u001b[0m \u001b[1;33m=\u001b[0m \u001b[0mtarget\u001b[0m \u001b[1;31m#0 for benign 1 for malicious\u001b[0m\u001b[1;33m\u001b[0m\u001b[1;33m\u001b[0m\u001b[0m\n",
      "\u001b[1;31mNameError\u001b[0m: name 'corpus' is not defined"
     ]
    }
   ],
   "source": [
    "from sklearn.model_selection import train_test_split\n",
    "X = corpus\n",
    "y = target #0 for benign 1 for malicious"
   ]
  },
  {
   "cell_type": "code",
   "execution_count": 3,
   "metadata": {},
   "outputs": [
    {
     "ename": "NameError",
     "evalue": "name 'train_test_split' is not defined",
     "output_type": "error",
     "traceback": [
      "\u001b[1;31m---------------------------------------------------------------------------\u001b[0m",
      "\u001b[1;31mNameError\u001b[0m                                 Traceback (most recent call last)",
      "\u001b[1;32m<ipython-input-3-a163281cb165>\u001b[0m in \u001b[0;36m<module>\u001b[1;34m\u001b[0m\n\u001b[1;32m----> 1\u001b[1;33m \u001b[0mX_train\u001b[0m\u001b[1;33m,\u001b[0m \u001b[0mX_test\u001b[0m\u001b[1;33m,\u001b[0m \u001b[0my_train\u001b[0m\u001b[1;33m,\u001b[0m \u001b[0my_test\u001b[0m \u001b[1;33m=\u001b[0m \u001b[0mtrain_test_split\u001b[0m\u001b[1;33m(\u001b[0m\u001b[0mX\u001b[0m\u001b[1;33m,\u001b[0m\u001b[0my\u001b[0m\u001b[1;33m,\u001b[0m \u001b[0mtest_size\u001b[0m \u001b[1;33m=\u001b[0m \u001b[1;36m0.33\u001b[0m\u001b[1;33m,\u001b[0m \u001b[0mrandom_state\u001b[0m \u001b[1;33m=\u001b[0m \u001b[1;36m42\u001b[0m\u001b[1;33m)\u001b[0m\u001b[1;33m\u001b[0m\u001b[1;33m\u001b[0m\u001b[0m\n\u001b[0m\u001b[0;32m      2\u001b[0m \u001b[1;31m# %33 for test size\u001b[0m\u001b[1;33m\u001b[0m\u001b[1;33m\u001b[0m\u001b[1;33m\u001b[0m\u001b[0m\n",
      "\u001b[1;31mNameError\u001b[0m: name 'train_test_split' is not defined"
     ]
    }
   ],
   "source": [
    "X_train, X_test, y_train, y_test = train_test_split(X,y, test_size = 0.33, random_state = 42)\n",
    "# %33 for test size"
   ]
  },
  {
   "cell_type": "code",
   "execution_count": 37,
   "metadata": {},
   "outputs": [
    {
     "data": {
      "text/plain": [
       "TfidfVectorizer()"
      ]
     },
     "execution_count": 37,
     "metadata": {},
     "output_type": "execute_result"
    }
   ],
   "source": [
    "vectorizer.fit(X_train)"
   ]
  },
  {
   "cell_type": "code",
   "execution_count": 42,
   "metadata": {},
   "outputs": [],
   "source": [
    "transformed_X_train = vectorizer.transform(X_train)\n",
    "transformed_X_test = vectorizer.transform(X_test) "
   ]
  },
  {
   "cell_type": "code",
   "execution_count": 44,
   "metadata": {},
   "outputs": [
    {
     "name": "stdout",
     "output_type": "stream",
     "text": [
      "  (0, 364)\t0.7071067811865476\n",
      "  (0, 190)\t0.7071067811865476\n",
      "  (1, 627)\t0.37407220482188563\n",
      "  (1, 614)\t0.2872609608492274\n",
      "  (1, 543)\t0.1967367122058823\n",
      "  (1, 360)\t0.262692599984839\n",
      "  (1, 340)\t0.2032217695052822\n",
      "  (1, 265)\t0.38363366257948006\n",
      "  (1, 260)\t0.38363366257948006\n",
      "  (1, 250)\t0.37715813768619955\n",
      "  (1, 249)\t0.38252464345928955\n",
      "  (1, 227)\t0.11395474365317616\n",
      "  (1, 19)\t0.1806396438451607\n",
      "  (2, 309)\t1.0\n",
      "  (3, 340)\t0.6893213529047907\n",
      "  (3, 227)\t0.3865306273838161\n",
      "  (3, 19)\t0.6127235482040677\n",
      "  (4, 597)\t0.540901301488313\n",
      "  (4, 465)\t0.3500060778061557\n",
      "  (4, 462)\t0.29030072381655936\n",
      "  (4, 227)\t0.1428776428142226\n",
      "  (4, 109)\t0.654932243693178\n",
      "  (4, 19)\t0.22648786425204592\n",
      "  (5, 617)\t0.24376794889647532\n",
      "  (5, 586)\t0.3850962959368736\n",
      "  :\t:\n",
      "  (1559, 328)\t0.045782864348836924\n",
      "  (1559, 322)\t0.05737998716296021\n",
      "  (1559, 321)\t0.06058677280293682\n",
      "  (1559, 320)\t0.05737998716296021\n",
      "  (1559, 319)\t0.05737998716296021\n",
      "  (1559, 318)\t0.05737998716296021\n",
      "  (1559, 307)\t0.4357973719568026\n",
      "  (1559, 287)\t0.02130849322790976\n",
      "  (1559, 276)\t0.02813934991535346\n",
      "  (1559, 275)\t0.021144854841630298\n",
      "  (1559, 264)\t0.024696459980272846\n",
      "  (1559, 234)\t0.4357973719568026\n",
      "  (1559, 217)\t0.03171405801061978\n",
      "  (1559, 195)\t0.018074198320104696\n",
      "  (1559, 191)\t0.027882127032195354\n",
      "  (1559, 160)\t0.030136315305961406\n",
      "  (1559, 159)\t0.055104736542453105\n",
      "  (1559, 152)\t0.0240471596166232\n",
      "  (1559, 113)\t0.06846535760640433\n",
      "  (1559, 90)\t0.1590057611016617\n",
      "  (1559, 85)\t0.4084211303462334\n",
      "  (1559, 84)\t0.024244399427982632\n",
      "  (1559, 70)\t0.027215080772855234\n",
      "  (1559, 22)\t0.4357973719568026\n",
      "  (1560, 309)\t1.0\n"
     ]
    }
   ],
   "source": [
    "print(transformed_X_train)"
   ]
  },
  {
   "cell_type": "code",
   "execution_count": 46,
   "metadata": {},
   "outputs": [],
   "source": [
    "from sklearn.ensemble import RandomForestClassifier #we can change the classifier"
   ]
  },
  {
   "cell_type": "code",
   "execution_count": 47,
   "metadata": {},
   "outputs": [],
   "source": [
    "clf = RandomForestClassifier(n_estimators = 100, max_depth = 2, random_state = 0)"
   ]
  },
  {
   "cell_type": "code",
   "execution_count": 49,
   "metadata": {},
   "outputs": [
    {
     "data": {
      "text/plain": [
       "RandomForestClassifier(max_depth=2, random_state=0)"
      ]
     },
     "execution_count": 49,
     "metadata": {},
     "output_type": "execute_result"
    }
   ],
   "source": [
    "clf.fit(transformed_X_train, y_train)"
   ]
  },
  {
   "cell_type": "code",
   "execution_count": 50,
   "metadata": {},
   "outputs": [
    {
     "name": "stdout",
     "output_type": "stream",
     "text": [
      "[0 0 0 0 0 0 0 0 0 0 0 0 0 0 0 0 0 0 0 0 0 0 0 0 0 0 0 0 0 0 0 0 0 0 0 0 0\n",
      " 0 0 0 0 0 0 0 0 0 0 0 0 0 0 0 0 0 0 0 0 0 0 0 0 0 0 0 0 0 0 0 0 0 0 0 0 0\n",
      " 0 0 0 0 0 0 0 0 0 0 0 0 0 0 0 0 0 0 0 0 0 0 0 0 0 0 0 0 0 0 0 0 0 0 0 0 0\n",
      " 0 0 0 0 0 0 0 0 0 0 0 0 0 0 0 0 0 0 0 0 0 0 0 0 0 0 0 0 0 0 0 0 0 0 0 0 0\n",
      " 0 0 0 0 0 0 0 0 0 0 0 0 0 0 0 0 0 0 0 0 0 0 0 0 0 0 0 0 0 0 0 0 0 0 0 0 0\n",
      " 0 0 0 0 0 0 0 0 0 0 0 0 0 0 0 0 0 0 0 0 0 0 0 0 0 0 0 0 0 0 0 0 0 0 0 0 0\n",
      " 0 0 0 0 0 0 0 0 0 0 0 0 0 0 0 0 0 0 0 0 0 0 0 0 0 0 0 0 0 0 0 0 0 0 0 0 0\n",
      " 0 0 0 0 0 0 0 0 0 0 0 0 0 0 0 0 0 0 0 0 0 0 0 0 0 0 0 0 0 0 0 0 0 0 0 0 0\n",
      " 0 0 0 0 0 0 0 0 0 0 0 0 0 0 0 0 0 0 0 0 0 0 0 0 0 0 0 0 0 0 0 0 0 0 0 0 0\n",
      " 0 0 0 0 0 0 0 0 0 0 0 0 0 0 0 0 0 0 0 0 0 0 0 0 0 0 0 0 0 0 0 0 0 0 0 0 0\n",
      " 0 0 0 0 0 0 0 0 0 0 0 0 0 0 0 0 0 0 0 0 0 0 0 0 0 0 0 0 0 0 0 0 0 0 0 0 0\n",
      " 0 0 0 0 0 0 0 0 0 0 0 0 0 0 0 0 0 0 0 0 0 0 0 0 0 0 0 0 0 0 0 0 0 0 0 0 0\n",
      " 0 0 0 0 0 0 0 0 0 0 0 0 0 0 0 0 0 0 0 0 0 0 0 0 0 0 0 0 0 0 0 0 0 0 0 0 0\n",
      " 0 0 0 0 0 0 0 0 0 0 0 0 0 0 0 0 0 0 0 0 0 0 0 0 0 0 0 0 0 0 0 0 0 0 0 0 0\n",
      " 0 0 0 0 0 0 0 0 0 0 0 0 0 0 0 0 0 0 0 0 0 0 0 0 0 0 0 0 0 0 0 0 0 0 0 0 0\n",
      " 0 0 0 0 0 0 0 0 0 0 0 0 0 0 0 0 0 0 0 0 0 0 0 0 0 0 0 0 0 0 0 0 0 0 0 0 0\n",
      " 0 0 0 0 0 0 0 0 0 0 0 0 0 0 0 0 0 0 0 0 0 0 0 0 0 0 0 0 0 0 0 0 0 0 0 0 0\n",
      " 0 0 0 0 0 0 0 0 0 0 0 0 0 0 0 0 0 0 0 0 0 0 0 0 0 0 0 0 0 0 0 0 0 0 0 0 0\n",
      " 0 0 0 0 0 0 0 0 0 0 0 0 0 0 0 0 0 0 0 0 0 0 0 0 0 0 0 0 0 0 0 0 0 0 0 0 0\n",
      " 0 0 0 0 0 0 0 0 0 0 0 0 0 0 0 0 0 0 0 0 0 0 0 0 0 0 0 0 0 0 0 0 0 0 0 0 0\n",
      " 0 0 0 0 0 0 0 0 0 0 0 0 0 0 0 0 0 0 0 0 0 0 0 0 0 0 0 0 0]\n"
     ]
    }
   ],
   "source": [
    "prediction = clf.predict(transformed_X_test)\n",
    "print(prediction)"
   ]
  },
  {
   "cell_type": "code",
   "execution_count": 51,
   "metadata": {},
   "outputs": [
    {
     "name": "stdout",
     "output_type": "stream",
     "text": [
      "[[0.92531092 0.07468908]\n",
      " [0.92336474 0.07663526]\n",
      " [0.91602792 0.08397208]\n",
      " ...\n",
      " [0.92320878 0.07679122]\n",
      " [0.96658058 0.03341942]\n",
      " [0.90507658 0.09492342]]\n"
     ]
    }
   ],
   "source": [
    "prediction = clf.predict_proba(transformed_X_test)\n",
    "print(prediction)"
   ]
  },
  {
   "cell_type": "code",
   "execution_count": 52,
   "metadata": {},
   "outputs": [
    {
     "name": "stdout",
     "output_type": "stream",
     "text": [
      "[0, 0, 0, 0, 0, 0, 0, 0, 0, 0, 0, 0, 0, 0, 0, 0, 0, 0, 0, 0, 0, 0, 0, 0, 0, 0, 0, 0, 0, 0, 0, 0, 0, 0, 0, 0, 0, 0, 1, 0, 0, 0, 1, 0, 0, 0, 0, 1, 0, 0, 0, 0, 0, 0, 0, 0, 0, 0, 0, 0, 0, 0, 0, 0, 0, 0, 0, 0, 0, 0, 0, 0, 0, 1, 0, 0, 0, 0, 0, 0, 0, 0, 0, 0, 0, 0, 0, 0, 0, 0, 0, 0, 0, 0, 0, 0, 0, 0, 0, 0, 0, 0, 0, 0, 0, 0, 0, 0, 0, 1, 1, 0, 0, 0, 0, 0, 0, 0, 0, 0, 0, 0, 0, 0, 0, 0, 0, 0, 0, 0, 0, 0, 0, 0, 0, 0, 0, 0, 0, 0, 0, 0, 0, 0, 0, 0, 0, 0, 0, 0, 0, 0, 0, 0, 0, 0, 0, 0, 0, 0, 0, 0, 0, 0, 0, 0, 0, 1, 0, 1, 0, 0, 0, 0, 0, 0, 0, 0, 0, 0, 0, 0, 0, 0, 0, 0, 0, 0, 0, 0, 0, 0, 0, 0, 0, 0, 0, 1, 0, 0, 0, 0, 0, 1, 1, 0, 0, 0, 0, 1, 0, 0, 0, 0, 0, 0, 0, 0, 0, 0, 0, 0, 0, 0, 0, 0, 0, 0, 0, 0, 1, 0, 0, 0, 1, 0, 0, 0, 0, 0, 0, 0, 0, 0, 0, 0, 0, 0, 0, 0, 0, 0, 0, 0, 0, 0, 0, 0, 0, 0, 0, 0, 0, 0, 0, 0, 0, 0, 0, 0, 0, 0, 0, 0, 0, 0, 1, 0, 0, 0, 0, 0, 0, 0, 0, 0, 0, 0, 0, 0, 0, 0, 0, 0, 0, 0, 0, 1, 0, 0, 0, 0, 0, 0, 0, 0, 0, 0, 0, 0, 0, 0, 0, 0, 0, 0, 0, 0, 0, 1, 0, 0, 0, 0, 0, 0, 0, 0, 0, 0, 0, 0, 0, 0, 0, 0, 0, 0, 0, 0, 0, 0, 0, 0, 1, 0, 0, 0, 0, 0, 0, 0, 0, 0, 0, 0, 0, 0, 0, 0, 0, 0, 1, 0, 0, 1, 0, 0, 0, 0, 0, 0, 0, 0, 0, 0, 0, 0, 0, 0, 0, 0, 0, 1, 0, 0, 0, 0, 0, 0, 0, 0, 1, 0, 0, 0, 0, 0, 0, 0, 0, 0, 0, 0, 0, 0, 0, 0, 1, 0, 0, 0, 0, 1, 0, 1, 0, 0, 0, 0, 0, 0, 0, 0, 0, 0, 0, 0, 0, 0, 0, 0, 0, 0, 0, 0, 0, 0, 0, 0, 0, 0, 0, 0, 0, 0, 0, 0, 0, 0, 0, 0, 0, 0, 0, 0, 0, 0, 0, 0, 0, 0, 0, 0, 0, 0, 0, 0, 0, 0, 0, 0, 1, 0, 0, 0, 0, 0, 0, 0, 0, 0, 1, 0, 0, 0, 0, 0, 0, 1, 1, 0, 0, 0, 0, 0, 0, 0, 0, 0, 0, 0, 0, 0, 0, 0, 0, 0, 0, 0, 0, 0, 0, 0, 0, 0, 0, 0, 1, 0, 1, 0, 0, 0, 0, 0, 0, 0, 0, 0, 0, 0, 0, 0, 0, 0, 0, 0, 0, 0, 1, 0, 0, 1, 0, 0, 0, 0, 0, 0, 0, 0, 0, 0, 0, 0, 0, 1, 0, 0, 0, 0, 0, 0, 0, 0, 0, 0, 1, 0, 1, 0, 0, 0, 0, 0, 0, 0, 0, 0, 0, 0, 0, 0, 0, 0, 0, 1, 0, 0, 0, 0, 0, 0, 0, 0, 0, 0, 0, 0, 0, 0, 0, 0, 0, 0, 0, 0, 0, 0, 0, 0, 0, 0, 0, 0, 0, 0, 0, 0, 0, 0, 0, 0, 0, 0, 0, 0, 0, 1, 0, 0, 0, 1, 0, 0, 0, 0, 0, 0, 0, 0, 0, 0, 0, 0, 0, 0, 0, 0, 0, 0, 0, 0, 0, 0, 0, 0, 0, 1, 0, 1, 0, 0, 0, 0, 0, 1, 0, 0, 0, 0, 0, 0, 0, 0, 0, 0, 0, 0, 0, 0, 0, 0, 0, 0, 0, 1, 1, 0, 0, 0, 0, 0, 0, 0, 0, 0, 1, 0, 0, 0, 0, 0, 0, 0, 0, 0, 0, 0, 0, 0, 0, 0, 0, 0, 0, 0, 0, 0, 0, 0, 0, 0, 0, 0, 0, 0, 0, 0, 0, 0, 0, 0, 0, 0, 0, 0, 0, 0, 0, 1, 0, 0, 0, 0, 0, 0, 0, 0, 0, 0, 0, 0, 0, 0, 0, 0, 0, 0, 0, 0, 0, 0, 1, 0, 0, 0, 1]\n"
     ]
    }
   ],
   "source": [
    "print(y_test)"
   ]
  },
  {
   "cell_type": "code",
   "execution_count": 54,
   "metadata": {},
   "outputs": [
    {
     "name": "stdout",
     "output_type": "stream",
     "text": [
      "[0 1 1 0 1 1 1 0 0 0 0 1 1 0 0 1 0 0 1 0 0 0 0 1 1 1 0 1 0 1 1 0 0 1 0 1 0\n",
      " 1 1 1 1 0 1 1 1 0 0 1 0 1 0 0 0 1 1 0 1 1 1 0 0 1 0 1 1 1 1 0 0 1 1 0 0 1\n",
      " 1 0 0 0 1 0 0 0 1 1 0 0 1 0 1 1 1 0 0 1 1 1 0 0 1 0 1 1 0 0 0 0 0 0 1 1 1\n",
      " 0 1 0 1 1 0 0 0 1 0 0 0 1 1 0 0 1 0 1 0 1 1 1 1 1 1 1 0 1 1 0 1 1 1 0 1 0\n",
      " 1 0 0 0 1 1 0 1 0 1 1 1 1 1 1 0 1 0 0 1 1 1 1 0 1 0 0 1 0 1 1 1 0 1 0 1 1\n",
      " 1 0 1 0 0 0 1 1 0 1 1 1 1 0 0 1 0 1 1 1 1 1 0 1 1 0 1 1 0 1 1 1 1 0 0 0 0\n",
      " 1 0 0 1 0 0 0 1 1 1 1 0 1 0 1 1 0 1 0 0 0 1 0 1 0 1 1 0 1 1 1 1 0 0 0 1 0\n",
      " 0 1 0 0 0 1 0 0 1 1 0 1 0 1 0 0 0 1 1 0 0 1 1 1 1 1 0 0 1 0 0 0 1 0 0 1 0\n",
      " 0 1 0 1 0 1 0 1 1 1 0 0 1 1 0 1 0 1 0 1 1 0 1 1 1 1 1 1 1 1 1 1 0 1 1 1 0\n",
      " 0 0 1 1 1 1 0 0 0 1 1 1 0 0 1 1 1 1 1 0 1 1 1 0 1 1 1 1 0 1 1 1 1 0 0 0 1\n",
      " 1 0 1 1 0 0 0 0 0 0 0 1 1 1 0 0 1 0 1 0 1 0 1 0 1 0 1 1 1 1 0 1 1 0 0 1 1\n",
      " 0 1 1 1 0 1 1 1 1 1 0 0 0 0 1 0 0 0 1 0 0 1 1 1 1 0 1 0 0 1 1 1 0 1 0 0 1\n",
      " 1 1 1 1 1 0 0 0 1 1 1 0 1 0 1 0 0 1 1 0 1 1 0 1 0 0 1 1 1 1 1 1 0 1 1 1 1\n",
      " 1 1 0 1 1 0 0 1 1 1 0 1 1 1 1 1 1 0 0 1 0 1 1 1 0 1 0 1 1 1 1 1 1 1 0 1 1\n",
      " 1 0 1 0 0 1 1 0 1 1 0 1 0 0 1 0 0 0 1 1 0 0 1 0 1 1 1 1 1 1 1 0 1 1 1 0 1\n",
      " 1 0 1 1 1 1 0 1 1 1 1 1 0 1 1 1 0 0 1 0 1 1 0 1 0 1 0 0 1 1 0 1 1 0 1 0 1\n",
      " 1 0 0 1 0 0 0 1 0 1 0 1 1 1 0 1 1 0 1 1 0 1 1 1 1 1 1 1 1 1 1 1 0 0 0 1 0\n",
      " 1 0 0 0 1 0 1 1 1 1 1 1 1 0 0 0 0 1 1 0 1 0 1 0 1 1 1 0 1 1 1 0 1 1 1 1 0\n",
      " 0 1 1 1 0 1 0 1 0 1 1 0 0 0 0 0 0 0 0 0 1 1 1 1 1 1 0 0 1 0 1 0 1 0 1 1 1\n",
      " 1 1 0 1 0 0 1 1 1 1 1 0 0 1 0 0 0 1 0 1 0 1 0 1 1 0 1 0 0 0 1 1 0 0 1 1 1\n",
      " 1 1 1 1 0 0 1 1 0 1 1 0 1 0 1 1 0 1 0 1 1 0 0 1 1 0 1 0 1]\n"
     ]
    }
   ],
   "source": [
    "clf_weighted = RandomForestClassifier(n_estimators = 100, max_depth = 2, random_state = 0, class_weight = \"balanced\")\n",
    "clf_weighted.fit(transformed_X_train, y_train)\n",
    "prediction = clf_weighted.predict(transformed_X_test)\n",
    "print(prediction)"
   ]
  },
  {
   "cell_type": "code",
   "execution_count": 68,
   "metadata": {},
   "outputs": [],
   "source": [
    "from sklearn.metrics import confusion_matrix\n",
    "def FPR(true_y, pred_y):\n",
    "    cm = confusion_matrix(true_y, pred_y)\n",
    "    N = sum(cm[0,:])\n",
    "    return cm[0,1]/N\n",
    "def TPR(true_y, pred_y):\n",
    "    cm = confusion_matrix(true_y, pred_y)\n",
    "    P = sum(cm[1,:])\n",
    "    return cm[1,1]/P\n"
   ]
  },
  {
   "cell_type": "code",
   "execution_count": 63,
   "metadata": {},
   "outputs": [
    {
     "name": "stdout",
     "output_type": "stream",
     "text": [
      "[[0.5268528  0.4731472 ]\n",
      " [0.46910434 0.53089566]\n",
      " [0.44502583 0.55497417]\n",
      " ...\n",
      " [0.47272985 0.52727015]\n",
      " [0.88648109 0.11351891]\n",
      " [0.40879053 0.59120947]]\n"
     ]
    }
   ],
   "source": [
    "prediction_probabilities = clf_weighted.predict_proba(transformed_X_test)\n",
    "print(prediction_probabilities)"
   ]
  },
  {
   "cell_type": "code",
   "execution_count": 64,
   "metadata": {},
   "outputs": [],
   "source": [
    "def threshold_vector(vector, threshold):\n",
    "    return [0 if x>=threshold else 1 for x in vector]"
   ]
  },
  {
   "cell_type": "code",
   "execution_count": 69,
   "metadata": {
    "scrolled": true
   },
   "outputs": [
    {
     "name": "stdout",
     "output_type": "stream",
     "text": [
      "0 0.0 0.0\n",
      "1 0.0 0.0\n",
      "2 0.0 0.0\n",
      "3 0.0 0.0\n",
      "4 0.0 0.0\n",
      "5 0.0 0.0\n",
      "6 0.0 0.0\n",
      "7 0.0 0.0\n",
      "8 0.0 0.0\n",
      "9 0.0 0.0\n",
      "10 0.0 0.0\n",
      "11 0.0 0.0\n",
      "12 0.0 0.0\n",
      "13 0.0 0.0\n",
      "14 0.0 0.0\n",
      "15 0.0 0.0\n",
      "16 0.0 0.0\n",
      "17 0.0 0.0\n",
      "18 0.0 0.0\n",
      "19 0.0 0.0\n",
      "20 0.0 0.0\n",
      "21 0.0 0.0\n",
      "22 0.0 0.0\n",
      "23 0.0 0.0\n",
      "24 0.0 0.0\n",
      "25 0.0 0.0\n",
      "26 0.0 0.0\n",
      "27 0.0 0.0\n",
      "28 0.0 0.0\n",
      "29 0.0 0.0\n",
      "30 0.0 0.0\n",
      "31 0.0 0.0\n",
      "32 0.0 0.0\n",
      "33 0.0 0.0\n",
      "34 0.0 0.0\n",
      "35 0.0 0.0\n",
      "36 0.0 0.0\n",
      "37 0.0 0.0\n",
      "38 0.0 0.0\n",
      "39 0.0 0.0\n",
      "40 0.0 0.041666666666666664\n",
      "41 0.015256588072122053 0.14583333333333334\n",
      "42 0.04576976421636616 0.3333333333333333\n",
      "43 0.11511789181692095 0.375\n",
      "44 0.19833564493758668 0.5833333333333334\n",
      "45 0.3287101248266297 1.0\n",
      "46 0.3841886269070735 1.0\n",
      "47 0.4868238557558946 1.0\n",
      "48 0.5436893203883495 1.0\n",
      "49 0.550624133148405 1.0\n",
      "50 0.5520110957004161 1.0\n",
      "51 0.5520110957004161 1.0\n",
      "52 0.5547850208044383 1.0\n",
      "53 0.6185852981969486 1.0\n",
      "54 0.6185852981969486 1.0\n",
      "55 0.6185852981969486 1.0\n",
      "56 0.6185852981969486 1.0\n",
      "57 0.6185852981969486 1.0\n",
      "58 0.6185852981969486 1.0\n",
      "59 0.6185852981969486 1.0\n",
      "60 0.6185852981969486 1.0\n",
      "61 0.6185852981969486 1.0\n",
      "62 0.6185852981969486 1.0\n",
      "63 0.624133148404993 1.0\n",
      "64 0.6282940360610264 1.0\n",
      "65 0.6296809986130375 1.0\n",
      "66 0.6310679611650486 1.0\n",
      "67 0.6310679611650486 1.0\n",
      "68 0.6338418862690708 1.0\n",
      "69 0.6338418862690708 1.0\n",
      "70 0.6338418862690708 1.0\n",
      "71 0.6352288488210819 1.0\n",
      "72 0.636615811373093 1.0\n",
      "73 0.636615811373093 1.0\n",
      "74 0.636615811373093 1.0\n",
      "75 0.6449375866851595 1.0\n",
      "76 0.6490984743411928 1.0\n",
      "77 0.6532593619972261 1.0\n",
      "78 0.6601941747572816 1.0\n",
      "79 0.6601941747572816 1.0\n",
      "80 0.6879334257975035 1.0\n",
      "81 0.710124826629681 1.0\n",
      "82 0.7350901525658807 1.0\n",
      "83 0.753120665742025 1.0\n",
      "84 0.7836338418862691 1.0\n",
      "85 0.811373092926491 1.0\n",
      "86 0.8391123439667129 1.0\n",
      "87 0.9251040221914009 1.0\n",
      "88 0.9528432732316228 1.0\n",
      "89 0.9694868238557559 1.0\n",
      "90 0.9764216366158114 1.0\n",
      "91 0.9875173370319001 1.0\n",
      "92 0.9930651872399445 1.0\n",
      "93 0.9944521497919556 1.0\n",
      "94 0.9944521497919556 1.0\n",
      "95 0.9958391123439667 1.0\n",
      "96 1.0 1.0\n",
      "97 1.0 1.0\n",
      "98 1.0 1.0\n",
      "99 1.0 1.0\n"
     ]
    }
   ],
   "source": [
    "for threshold in range(100):\n",
    "    threshold_scaled = float(threshold)/100\n",
    "    thresholded_prediction = threshold_vector(prediction_probabilities[:,0], threshold_scaled)\n",
    "    print(threshold, FPR(y_test, thresholded_pred\n",
    "                         iction), TPR(y_test, thresholded_prediction))"
   ]
  },
  {
   "cell_type": "markdown",
   "metadata": {},
   "source": [
    "# 2. NETWORK INTRUSION DETECTION SYSTEM with CICIDS2017 DATASET #"
   ]
  },
  {
   "cell_type": "code",
   "execution_count": 84,
   "metadata": {},
   "outputs": [],
   "source": [
    "from IPython.display import HTML, display"
   ]
  },
  {
   "cell_type": "code",
   "execution_count": 1,
   "metadata": {},
   "outputs": [],
   "source": [
    "cols = [' Destination Port',\n",
    " ' Flow Duration',\n",
    " ' Total Fwd Packets',\n",
    " ' Total Backward Packets',\n",
    " 'Total Length of Fwd Packets',\n",
    " ' Total Length of Bwd Packets',\n",
    " ' Fwd Packet Length Max',\n",
    " ' Fwd Packet Length Min',\n",
    " ' Fwd Packet Length Mean',\n",
    " ' Fwd Packet Length Std',\n",
    " 'Bwd Packet Length Max',\n",
    " ' Bwd Packet Length Min',\n",
    " ' Bwd Packet Length Mean',\n",
    " ' Bwd Packet Length Std',\n",
    " 'Flow Bytes/s',\n",
    " ' Flow Packets/s',\n",
    " ' Flow IAT Mean',\n",
    " ' Flow IAT Std',\n",
    " ' Flow IAT Max',\n",
    " ' Flow IAT Min',\n",
    " 'Fwd IAT Total',\n",
    " ' Fwd IAT Mean',\n",
    " ' Fwd IAT Std',\n",
    " ' Fwd IAT Max',\n",
    " ' Fwd IAT Min',\n",
    " 'Bwd IAT Total',\n",
    " ' Bwd IAT Mean',\n",
    " ' Bwd IAT Std',\n",
    " ' Bwd IAT Max',\n",
    " ' Bwd IAT Min',\n",
    " 'Fwd PSH Flags',\n",
    " ' Bwd PSH Flags',\n",
    " ' Fwd URG Flags',\n",
    " ' Bwd URG Flags',\n",
    " ' Fwd Header Length',\n",
    " ' Bwd Header Length',\n",
    " 'Fwd Packets/s',\n",
    " ' Bwd Packets/s',\n",
    " ' Min Packet Length',\n",
    " ' Max Packet Length',\n",
    " ' Packet Length Mean',\n",
    " ' Packet Length Std',\n",
    " ' Packet Length Variance',\n",
    " 'FIN Flag Count',\n",
    " ' SYN Flag Count',\n",
    " ' RST Flag Count',\n",
    " ' PSH Flag Count',\n",
    " ' ACK Flag Count',\n",
    " ' URG Flag Count',\n",
    " ' CWE Flag Count',\n",
    " ' ECE Flag Count',\n",
    " ' Down/Up Ratio',\n",
    " ' Average Packet Size',\n",
    " ' Avg Fwd Segment Size',\n",
    " ' Avg Bwd Segment Size',\n",
    " ' Fwd Header Length.1',\n",
    " 'Fwd Avg Bytes/Bulk',\n",
    " ' Fwd Avg Packets/Bulk',\n",
    " ' Fwd Avg Bulk Rate',\n",
    " ' Bwd Avg Bytes/Bulk',\n",
    " ' Bwd Avg Packets/Bulk',\n",
    " 'Bwd Avg Bulk Rate',\n",
    " 'Subflow Fwd Packets',\n",
    " ' Subflow Fwd Bytes',\n",
    " ' Subflow Bwd Packets',\n",
    " ' Subflow Bwd Bytes',\n",
    " 'Init_Win_bytes_forward',\n",
    " ' Init_Win_bytes_backward',\n",
    " ' act_data_pkt_fwd',\n",
    " ' min_seg_size_forward',\n",
    " 'Active Mean',\n",
    " ' Active Std',\n",
    " ' Active Max',\n",
    " ' Active Min',\n",
    " 'Idle Mean',\n",
    " ' Idle Std',\n",
    " ' Idle Max',\n",
    " ' Idle Min',\n",
    " ' Label']"
   ]
  },
  {
   "cell_type": "code",
   "execution_count": 2,
   "metadata": {
    "scrolled": true
   },
   "outputs": [
    {
     "name": "stdout",
     "output_type": "stream",
     "text": [
      "V:\\bitirme\\Shared\\CICIDS2107\\MachineLearningCVE\\Friday-WorkingHours-Afternoon-DDos.pcap_ISCX.csv\n",
      "V:\\bitirme\\Shared\\CICIDS2107\\MachineLearningCVE\\Friday-WorkingHours-Afternoon-PortScan.pcap_ISCX.csv\n",
      "V:\\bitirme\\Shared\\CICIDS2107\\MachineLearningCVE\\Friday-WorkingHours-Morning.pcap_ISCX.csv\n",
      "V:\\bitirme\\Shared\\CICIDS2107\\MachineLearningCVE\\Monday-WorkingHours.pcap_ISCX.csv\n",
      "V:\\bitirme\\Shared\\CICIDS2107\\MachineLearningCVE\\Thursday-WorkingHours-Afternoon-Infilteration.pcap_ISCX.csv\n",
      "V:\\bitirme\\Shared\\CICIDS2107\\MachineLearningCVE\\Thursday-WorkingHours-Morning-WebAttacks.pcap_ISCX.csv\n",
      "V:\\bitirme\\Shared\\CICIDS2107\\MachineLearningCVE\\Tuesday-WorkingHours.pcap_ISCX.csv\n",
      "V:\\bitirme\\Shared\\CICIDS2107\\MachineLearningCVE\\Wednesday-workingHours.pcap_ISCX.csv\n",
      "finished\n"
     ]
    }
   ],
   "source": [
    "import pandas as pd\n",
    "import numpy as np\n",
    "import matplotlib.pyplot as plt\n",
    "\n",
    "plt.style.use(\"ggplot\")\n",
    "%matplotlib inline\n",
    "\n",
    "import glob\n",
    "\n",
    "csvDataPath = \"V:\\\\bitirme\\\\Shared\\\\CICIDS2107\\\\MachineLearningCVE\"\n",
    "all_files = glob.glob(csvDataPath + \"/*.csv\")\n",
    "\n",
    "li = []\n",
    "\n",
    "for filename in all_files:\n",
    "    temp = pd.read_csv(filename, index_col=None, header = 0, low_memory=False)\n",
    "    #, dtype='uint8'\n",
    "    li.append(temp)\n",
    "    print(filename)\n",
    "\n",
    "df = pd.concat(li, axis=0, ignore_index=True)\n",
    "print(\"finished\")"
   ]
  },
  {
   "cell_type": "code",
   "execution_count": 3,
   "metadata": {},
   "outputs": [
    {
     "data": {
      "text/html": [
       "<div>\n",
       "<style scoped>\n",
       "    .dataframe tbody tr th:only-of-type {\n",
       "        vertical-align: middle;\n",
       "    }\n",
       "\n",
       "    .dataframe tbody tr th {\n",
       "        vertical-align: top;\n",
       "    }\n",
       "\n",
       "    .dataframe thead th {\n",
       "        text-align: right;\n",
       "    }\n",
       "</style>\n",
       "<table border=\"1\" class=\"dataframe\">\n",
       "  <thead>\n",
       "    <tr style=\"text-align: right;\">\n",
       "      <th></th>\n",
       "      <th>Destination Port</th>\n",
       "      <th>Flow Duration</th>\n",
       "      <th>Total Fwd Packets</th>\n",
       "      <th>Total Backward Packets</th>\n",
       "      <th>Total Length of Fwd Packets</th>\n",
       "      <th>Total Length of Bwd Packets</th>\n",
       "      <th>Fwd Packet Length Max</th>\n",
       "      <th>Fwd Packet Length Min</th>\n",
       "      <th>Fwd Packet Length Mean</th>\n",
       "      <th>Fwd Packet Length Std</th>\n",
       "      <th>...</th>\n",
       "      <th>min_seg_size_forward</th>\n",
       "      <th>Active Mean</th>\n",
       "      <th>Active Std</th>\n",
       "      <th>Active Max</th>\n",
       "      <th>Active Min</th>\n",
       "      <th>Idle Mean</th>\n",
       "      <th>Idle Std</th>\n",
       "      <th>Idle Max</th>\n",
       "      <th>Idle Min</th>\n",
       "      <th>Label</th>\n",
       "    </tr>\n",
       "  </thead>\n",
       "  <tbody>\n",
       "    <tr>\n",
       "      <td>0</td>\n",
       "      <td>54865</td>\n",
       "      <td>3</td>\n",
       "      <td>2</td>\n",
       "      <td>0</td>\n",
       "      <td>12</td>\n",
       "      <td>0</td>\n",
       "      <td>6</td>\n",
       "      <td>6</td>\n",
       "      <td>6.0</td>\n",
       "      <td>0.00000</td>\n",
       "      <td>...</td>\n",
       "      <td>20</td>\n",
       "      <td>0.0</td>\n",
       "      <td>0.0</td>\n",
       "      <td>0</td>\n",
       "      <td>0</td>\n",
       "      <td>0.0</td>\n",
       "      <td>0.0</td>\n",
       "      <td>0</td>\n",
       "      <td>0</td>\n",
       "      <td>BENIGN</td>\n",
       "    </tr>\n",
       "    <tr>\n",
       "      <td>1</td>\n",
       "      <td>55054</td>\n",
       "      <td>109</td>\n",
       "      <td>1</td>\n",
       "      <td>1</td>\n",
       "      <td>6</td>\n",
       "      <td>6</td>\n",
       "      <td>6</td>\n",
       "      <td>6</td>\n",
       "      <td>6.0</td>\n",
       "      <td>0.00000</td>\n",
       "      <td>...</td>\n",
       "      <td>20</td>\n",
       "      <td>0.0</td>\n",
       "      <td>0.0</td>\n",
       "      <td>0</td>\n",
       "      <td>0</td>\n",
       "      <td>0.0</td>\n",
       "      <td>0.0</td>\n",
       "      <td>0</td>\n",
       "      <td>0</td>\n",
       "      <td>BENIGN</td>\n",
       "    </tr>\n",
       "    <tr>\n",
       "      <td>2</td>\n",
       "      <td>55055</td>\n",
       "      <td>52</td>\n",
       "      <td>1</td>\n",
       "      <td>1</td>\n",
       "      <td>6</td>\n",
       "      <td>6</td>\n",
       "      <td>6</td>\n",
       "      <td>6</td>\n",
       "      <td>6.0</td>\n",
       "      <td>0.00000</td>\n",
       "      <td>...</td>\n",
       "      <td>20</td>\n",
       "      <td>0.0</td>\n",
       "      <td>0.0</td>\n",
       "      <td>0</td>\n",
       "      <td>0</td>\n",
       "      <td>0.0</td>\n",
       "      <td>0.0</td>\n",
       "      <td>0</td>\n",
       "      <td>0</td>\n",
       "      <td>BENIGN</td>\n",
       "    </tr>\n",
       "    <tr>\n",
       "      <td>3</td>\n",
       "      <td>46236</td>\n",
       "      <td>34</td>\n",
       "      <td>1</td>\n",
       "      <td>1</td>\n",
       "      <td>6</td>\n",
       "      <td>6</td>\n",
       "      <td>6</td>\n",
       "      <td>6</td>\n",
       "      <td>6.0</td>\n",
       "      <td>0.00000</td>\n",
       "      <td>...</td>\n",
       "      <td>20</td>\n",
       "      <td>0.0</td>\n",
       "      <td>0.0</td>\n",
       "      <td>0</td>\n",
       "      <td>0</td>\n",
       "      <td>0.0</td>\n",
       "      <td>0.0</td>\n",
       "      <td>0</td>\n",
       "      <td>0</td>\n",
       "      <td>BENIGN</td>\n",
       "    </tr>\n",
       "    <tr>\n",
       "      <td>4</td>\n",
       "      <td>54863</td>\n",
       "      <td>3</td>\n",
       "      <td>2</td>\n",
       "      <td>0</td>\n",
       "      <td>12</td>\n",
       "      <td>0</td>\n",
       "      <td>6</td>\n",
       "      <td>6</td>\n",
       "      <td>6.0</td>\n",
       "      <td>0.00000</td>\n",
       "      <td>...</td>\n",
       "      <td>20</td>\n",
       "      <td>0.0</td>\n",
       "      <td>0.0</td>\n",
       "      <td>0</td>\n",
       "      <td>0</td>\n",
       "      <td>0.0</td>\n",
       "      <td>0.0</td>\n",
       "      <td>0</td>\n",
       "      <td>0</td>\n",
       "      <td>BENIGN</td>\n",
       "    </tr>\n",
       "    <tr>\n",
       "      <td>...</td>\n",
       "      <td>...</td>\n",
       "      <td>...</td>\n",
       "      <td>...</td>\n",
       "      <td>...</td>\n",
       "      <td>...</td>\n",
       "      <td>...</td>\n",
       "      <td>...</td>\n",
       "      <td>...</td>\n",
       "      <td>...</td>\n",
       "      <td>...</td>\n",
       "      <td>...</td>\n",
       "      <td>...</td>\n",
       "      <td>...</td>\n",
       "      <td>...</td>\n",
       "      <td>...</td>\n",
       "      <td>...</td>\n",
       "      <td>...</td>\n",
       "      <td>...</td>\n",
       "      <td>...</td>\n",
       "      <td>...</td>\n",
       "      <td>...</td>\n",
       "    </tr>\n",
       "    <tr>\n",
       "      <td>2830738</td>\n",
       "      <td>53</td>\n",
       "      <td>32215</td>\n",
       "      <td>4</td>\n",
       "      <td>2</td>\n",
       "      <td>112</td>\n",
       "      <td>152</td>\n",
       "      <td>28</td>\n",
       "      <td>28</td>\n",
       "      <td>28.0</td>\n",
       "      <td>0.00000</td>\n",
       "      <td>...</td>\n",
       "      <td>20</td>\n",
       "      <td>0.0</td>\n",
       "      <td>0.0</td>\n",
       "      <td>0</td>\n",
       "      <td>0</td>\n",
       "      <td>0.0</td>\n",
       "      <td>0.0</td>\n",
       "      <td>0</td>\n",
       "      <td>0</td>\n",
       "      <td>BENIGN</td>\n",
       "    </tr>\n",
       "    <tr>\n",
       "      <td>2830739</td>\n",
       "      <td>53</td>\n",
       "      <td>324</td>\n",
       "      <td>2</td>\n",
       "      <td>2</td>\n",
       "      <td>84</td>\n",
       "      <td>362</td>\n",
       "      <td>42</td>\n",
       "      <td>42</td>\n",
       "      <td>42.0</td>\n",
       "      <td>0.00000</td>\n",
       "      <td>...</td>\n",
       "      <td>20</td>\n",
       "      <td>0.0</td>\n",
       "      <td>0.0</td>\n",
       "      <td>0</td>\n",
       "      <td>0</td>\n",
       "      <td>0.0</td>\n",
       "      <td>0.0</td>\n",
       "      <td>0</td>\n",
       "      <td>0</td>\n",
       "      <td>BENIGN</td>\n",
       "    </tr>\n",
       "    <tr>\n",
       "      <td>2830740</td>\n",
       "      <td>58030</td>\n",
       "      <td>82</td>\n",
       "      <td>2</td>\n",
       "      <td>1</td>\n",
       "      <td>31</td>\n",
       "      <td>6</td>\n",
       "      <td>31</td>\n",
       "      <td>0</td>\n",
       "      <td>15.5</td>\n",
       "      <td>21.92031</td>\n",
       "      <td>...</td>\n",
       "      <td>32</td>\n",
       "      <td>0.0</td>\n",
       "      <td>0.0</td>\n",
       "      <td>0</td>\n",
       "      <td>0</td>\n",
       "      <td>0.0</td>\n",
       "      <td>0.0</td>\n",
       "      <td>0</td>\n",
       "      <td>0</td>\n",
       "      <td>BENIGN</td>\n",
       "    </tr>\n",
       "    <tr>\n",
       "      <td>2830741</td>\n",
       "      <td>53</td>\n",
       "      <td>1048635</td>\n",
       "      <td>6</td>\n",
       "      <td>2</td>\n",
       "      <td>192</td>\n",
       "      <td>256</td>\n",
       "      <td>32</td>\n",
       "      <td>32</td>\n",
       "      <td>32.0</td>\n",
       "      <td>0.00000</td>\n",
       "      <td>...</td>\n",
       "      <td>20</td>\n",
       "      <td>0.0</td>\n",
       "      <td>0.0</td>\n",
       "      <td>0</td>\n",
       "      <td>0</td>\n",
       "      <td>0.0</td>\n",
       "      <td>0.0</td>\n",
       "      <td>0</td>\n",
       "      <td>0</td>\n",
       "      <td>BENIGN</td>\n",
       "    </tr>\n",
       "    <tr>\n",
       "      <td>2830742</td>\n",
       "      <td>53</td>\n",
       "      <td>94939</td>\n",
       "      <td>4</td>\n",
       "      <td>2</td>\n",
       "      <td>188</td>\n",
       "      <td>226</td>\n",
       "      <td>47</td>\n",
       "      <td>47</td>\n",
       "      <td>47.0</td>\n",
       "      <td>0.00000</td>\n",
       "      <td>...</td>\n",
       "      <td>20</td>\n",
       "      <td>0.0</td>\n",
       "      <td>0.0</td>\n",
       "      <td>0</td>\n",
       "      <td>0</td>\n",
       "      <td>0.0</td>\n",
       "      <td>0.0</td>\n",
       "      <td>0</td>\n",
       "      <td>0</td>\n",
       "      <td>BENIGN</td>\n",
       "    </tr>\n",
       "  </tbody>\n",
       "</table>\n",
       "<p>2830743 rows × 79 columns</p>\n",
       "</div>"
      ],
      "text/plain": [
       "          Destination Port   Flow Duration   Total Fwd Packets  \\\n",
       "0                    54865               3                   2   \n",
       "1                    55054             109                   1   \n",
       "2                    55055              52                   1   \n",
       "3                    46236              34                   1   \n",
       "4                    54863               3                   2   \n",
       "...                    ...             ...                 ...   \n",
       "2830738                 53           32215                   4   \n",
       "2830739                 53             324                   2   \n",
       "2830740              58030              82                   2   \n",
       "2830741                 53         1048635                   6   \n",
       "2830742                 53           94939                   4   \n",
       "\n",
       "          Total Backward Packets  Total Length of Fwd Packets  \\\n",
       "0                              0                           12   \n",
       "1                              1                            6   \n",
       "2                              1                            6   \n",
       "3                              1                            6   \n",
       "4                              0                           12   \n",
       "...                          ...                          ...   \n",
       "2830738                        2                          112   \n",
       "2830739                        2                           84   \n",
       "2830740                        1                           31   \n",
       "2830741                        2                          192   \n",
       "2830742                        2                          188   \n",
       "\n",
       "          Total Length of Bwd Packets   Fwd Packet Length Max  \\\n",
       "0                                   0                       6   \n",
       "1                                   6                       6   \n",
       "2                                   6                       6   \n",
       "3                                   6                       6   \n",
       "4                                   0                       6   \n",
       "...                               ...                     ...   \n",
       "2830738                           152                      28   \n",
       "2830739                           362                      42   \n",
       "2830740                             6                      31   \n",
       "2830741                           256                      32   \n",
       "2830742                           226                      47   \n",
       "\n",
       "          Fwd Packet Length Min   Fwd Packet Length Mean  \\\n",
       "0                             6                      6.0   \n",
       "1                             6                      6.0   \n",
       "2                             6                      6.0   \n",
       "3                             6                      6.0   \n",
       "4                             6                      6.0   \n",
       "...                         ...                      ...   \n",
       "2830738                      28                     28.0   \n",
       "2830739                      42                     42.0   \n",
       "2830740                       0                     15.5   \n",
       "2830741                      32                     32.0   \n",
       "2830742                      47                     47.0   \n",
       "\n",
       "          Fwd Packet Length Std  ...   min_seg_size_forward  Active Mean  \\\n",
       "0                       0.00000  ...                     20          0.0   \n",
       "1                       0.00000  ...                     20          0.0   \n",
       "2                       0.00000  ...                     20          0.0   \n",
       "3                       0.00000  ...                     20          0.0   \n",
       "4                       0.00000  ...                     20          0.0   \n",
       "...                         ...  ...                    ...          ...   \n",
       "2830738                 0.00000  ...                     20          0.0   \n",
       "2830739                 0.00000  ...                     20          0.0   \n",
       "2830740                21.92031  ...                     32          0.0   \n",
       "2830741                 0.00000  ...                     20          0.0   \n",
       "2830742                 0.00000  ...                     20          0.0   \n",
       "\n",
       "          Active Std   Active Max  Active Min Idle Mean   Idle Std   Idle Max  \\\n",
       "0                0.0            0           0       0.0        0.0          0   \n",
       "1                0.0            0           0       0.0        0.0          0   \n",
       "2                0.0            0           0       0.0        0.0          0   \n",
       "3                0.0            0           0       0.0        0.0          0   \n",
       "4                0.0            0           0       0.0        0.0          0   \n",
       "...              ...          ...         ...       ...        ...        ...   \n",
       "2830738          0.0            0           0       0.0        0.0          0   \n",
       "2830739          0.0            0           0       0.0        0.0          0   \n",
       "2830740          0.0            0           0       0.0        0.0          0   \n",
       "2830741          0.0            0           0       0.0        0.0          0   \n",
       "2830742          0.0            0           0       0.0        0.0          0   \n",
       "\n",
       "          Idle Min   Label  \n",
       "0                0  BENIGN  \n",
       "1                0  BENIGN  \n",
       "2                0  BENIGN  \n",
       "3                0  BENIGN  \n",
       "4                0  BENIGN  \n",
       "...            ...     ...  \n",
       "2830738          0  BENIGN  \n",
       "2830739          0  BENIGN  \n",
       "2830740          0  BENIGN  \n",
       "2830741          0  BENIGN  \n",
       "2830742          0  BENIGN  \n",
       "\n",
       "[2830743 rows x 79 columns]"
      ]
     },
     "execution_count": 3,
     "metadata": {},
     "output_type": "execute_result"
    }
   ],
   "source": [
    "df"
   ]
  },
  {
   "cell_type": "code",
   "execution_count": 9,
   "metadata": {
    "scrolled": true
   },
   "outputs": [],
   "source": [
    "targets = df[' Label'][:].values"
   ]
  },
  {
   "cell_type": "code",
   "execution_count": 10,
   "metadata": {},
   "outputs": [
    {
     "data": {
      "text/plain": [
       "array([1., 1., 1., ..., 1., 1., 1.])"
      ]
     },
     "execution_count": 10,
     "metadata": {},
     "output_type": "execute_result"
    }
   ],
   "source": [
    "targets"
   ]
  },
  {
   "cell_type": "code",
   "execution_count": 11,
   "metadata": {},
   "outputs": [
    {
     "data": {
      "text/plain": [
       "Counter({1.0: 2273097,\n",
       "         2.0: 128027,\n",
       "         3.0: 158930,\n",
       "         4.0: 1966,\n",
       "         5.0: 36,\n",
       "         6.0: 1507,\n",
       "         7.0: 652,\n",
       "         8.0: 21,\n",
       "         9.0: 7938,\n",
       "         10.0: 5897,\n",
       "         11.0: 5796,\n",
       "         12.0: 5499,\n",
       "         13.0: 231073,\n",
       "         14.0: 10293,\n",
       "         15.0: 11})"
      ]
     },
     "execution_count": 11,
     "metadata": {},
     "output_type": "execute_result"
    }
   ],
   "source": [
    "from collections import Counter\n",
    "Counter(targets)"
   ]
  },
  {
   "cell_type": "code",
   "execution_count": 18,
   "metadata": {},
   "outputs": [
    {
     "data": {
      "text/plain": [
       "19.699633629757273"
      ]
     },
     "execution_count": 18,
     "metadata": {},
     "output_type": "execute_result"
    }
   ],
   "source": [
    "100-(2273097/len(targets)*100)"
   ]
  },
  {
   "cell_type": "code",
   "execution_count": 14,
   "metadata": {},
   "outputs": [
    {
     "data": {
      "text/plain": [
       "557646"
      ]
     },
     "execution_count": 14,
     "metadata": {},
     "output_type": "execute_result"
    }
   ],
   "source": [
    "len(targets) - 2273097"
   ]
  },
  {
   "cell_type": "code",
   "execution_count": 3,
   "metadata": {},
   "outputs": [],
   "source": [
    "df.loc[(df[\" Label\"] == 'BENIGN'),' Label'] = 1\n",
    "df.loc[(df[\" Label\"] == 'DDoS'),' Label'] = 2\n",
    "df.loc[(df[\" Label\"] == 'PortScan'),' Label'] = 3\n",
    "df.loc[(df[\" Label\"] == 'Bot'),' Label'] = 4\n",
    "df.loc[(df[\" Label\"] == 'Infiltration'),' Label'] = 5\n",
    "df.loc[(df[\" Label\"] == 'Web Attack � Brute Force'),' Label'] = 6\n",
    "df.loc[(df[\" Label\"] == 'Web Attack � XSS'),' Label'] = 7\n",
    "df.loc[(df[\" Label\"] == 'Web Attack � Sql Injection'),' Label'] = 8\n",
    "df.loc[(df[\" Label\"] == 'FTP-Patator'),' Label'] = 9\n",
    "df.loc[(df[\" Label\"] == 'SSH-Patator'),' Label'] = 10\n",
    "df.loc[(df[\" Label\"] == 'DoS slowloris'),' Label'] = 11\n",
    "df.loc[(df[\" Label\"] == 'DoS Slowhttptest'),' Label'] = 12\n",
    "df.loc[(df[\" Label\"] == 'DoS Hulk'),' Label'] = 13\n",
    "df.loc[(df[\" Label\"] == 'DoS GoldenEye'),' Label'] = 14\n",
    "df.loc[(df[\" Label\"] == 'Heartbleed'),' Label'] = 15\n",
    "\n",
    "df = df.astype(float)"
   ]
  },
  {
   "cell_type": "code",
   "execution_count": 11,
   "metadata": {},
   "outputs": [],
   "source": [
    "#ISOLATION FOREST"
   ]
  },
  {
   "cell_type": "code",
   "execution_count": 4,
   "metadata": {},
   "outputs": [],
   "source": [
    "df = df.replace([np.inf, -np.inf], np.nan).dropna()"
   ]
  },
  {
   "cell_type": "code",
   "execution_count": 5,
   "metadata": {},
   "outputs": [],
   "source": [
    "from sklearn.ensemble import IsolationForest"
   ]
  },
  {
   "cell_type": "code",
   "execution_count": 6,
   "metadata": {},
   "outputs": [],
   "source": [
    "#1. meotd\n",
    "data_size = len(df)\n",
    "train_size = int(data_size*0.7)\n",
    "valid_size = int(data_size*0.15)"
   ]
  },
  {
   "cell_type": "code",
   "execution_count": 7,
   "metadata": {},
   "outputs": [],
   "source": [
    "X_train, y_train = df[cols][:train_size], df[\" Label\"][:train_size].values\n",
    "X_valid, y_valid = df[cols][train_size:(train_size+valid_size)], df[\" Label\"][train_size:(train_size+valid_size)].values\n",
    "X_test, y_test = df[cols][(train_size + valid_size):], df[\" Label\"][(train_size + valid_size):].values"
   ]
  },
  {
   "cell_type": "code",
   "execution_count": 9,
   "metadata": {},
   "outputs": [
    {
     "data": {
      "text/plain": [
       "2406076    13.0\n",
       "2406077    13.0\n",
       "2406078    13.0\n",
       "2406079    13.0\n",
       "2406080    13.0\n",
       "           ... \n",
       "2830738     1.0\n",
       "2830739     1.0\n",
       "2830740     1.0\n",
       "2830741     1.0\n",
       "2830742     1.0\n",
       "Name:  Label, Length: 424182, dtype: float64"
      ]
     },
     "execution_count": 9,
     "metadata": {},
     "output_type": "execute_result"
    }
   ],
   "source": [
    "X_train.pop(\" Label\")\n",
    "X_valid.pop(\" Label\")\n",
    "X_test.pop(\" Label\")"
   ]
  },
  {
   "cell_type": "code",
   "execution_count": 28,
   "metadata": {},
   "outputs": [
    {
     "data": {
      "text/html": [
       "<div>\n",
       "<style scoped>\n",
       "    .dataframe tbody tr th:only-of-type {\n",
       "        vertical-align: middle;\n",
       "    }\n",
       "\n",
       "    .dataframe tbody tr th {\n",
       "        vertical-align: top;\n",
       "    }\n",
       "\n",
       "    .dataframe thead th {\n",
       "        text-align: right;\n",
       "    }\n",
       "</style>\n",
       "<table border=\"1\" class=\"dataframe\">\n",
       "  <thead>\n",
       "    <tr style=\"text-align: right;\">\n",
       "      <th></th>\n",
       "      <th>Destination Port</th>\n",
       "      <th>Flow Duration</th>\n",
       "      <th>Total Fwd Packets</th>\n",
       "      <th>Total Backward Packets</th>\n",
       "      <th>Total Length of Fwd Packets</th>\n",
       "      <th>Total Length of Bwd Packets</th>\n",
       "      <th>Fwd Packet Length Max</th>\n",
       "      <th>Fwd Packet Length Min</th>\n",
       "      <th>Fwd Packet Length Mean</th>\n",
       "      <th>Fwd Packet Length Std</th>\n",
       "      <th>...</th>\n",
       "      <th>act_data_pkt_fwd</th>\n",
       "      <th>min_seg_size_forward</th>\n",
       "      <th>Active Mean</th>\n",
       "      <th>Active Std</th>\n",
       "      <th>Active Max</th>\n",
       "      <th>Active Min</th>\n",
       "      <th>Idle Mean</th>\n",
       "      <th>Idle Std</th>\n",
       "      <th>Idle Max</th>\n",
       "      <th>Idle Min</th>\n",
       "    </tr>\n",
       "  </thead>\n",
       "  <tbody>\n",
       "    <tr>\n",
       "      <td>0</td>\n",
       "      <td>54865.0</td>\n",
       "      <td>3.0</td>\n",
       "      <td>2.0</td>\n",
       "      <td>0.0</td>\n",
       "      <td>12.0</td>\n",
       "      <td>0.0</td>\n",
       "      <td>6.0</td>\n",
       "      <td>6.0</td>\n",
       "      <td>6.0</td>\n",
       "      <td>0.0</td>\n",
       "      <td>...</td>\n",
       "      <td>1.0</td>\n",
       "      <td>20.0</td>\n",
       "      <td>0.0</td>\n",
       "      <td>0.0</td>\n",
       "      <td>0.0</td>\n",
       "      <td>0.0</td>\n",
       "      <td>0.0</td>\n",
       "      <td>0.0</td>\n",
       "      <td>0.0</td>\n",
       "      <td>0.0</td>\n",
       "    </tr>\n",
       "  </tbody>\n",
       "</table>\n",
       "<p>1 rows × 78 columns</p>\n",
       "</div>"
      ],
      "text/plain": [
       "    Destination Port   Flow Duration   Total Fwd Packets  \\\n",
       "0            54865.0             3.0                 2.0   \n",
       "\n",
       "    Total Backward Packets  Total Length of Fwd Packets  \\\n",
       "0                      0.0                         12.0   \n",
       "\n",
       "    Total Length of Bwd Packets   Fwd Packet Length Max  \\\n",
       "0                           0.0                     6.0   \n",
       "\n",
       "    Fwd Packet Length Min   Fwd Packet Length Mean   Fwd Packet Length Std  \\\n",
       "0                     6.0                      6.0                     0.0   \n",
       "\n",
       "   ...   act_data_pkt_fwd   min_seg_size_forward  Active Mean   Active Std  \\\n",
       "0  ...                1.0                   20.0          0.0          0.0   \n",
       "\n",
       "    Active Max   Active Min  Idle Mean   Idle Std   Idle Max   Idle Min  \n",
       "0          0.0          0.0        0.0        0.0        0.0        0.0  \n",
       "\n",
       "[1 rows x 78 columns]"
      ]
     },
     "execution_count": 28,
     "metadata": {},
     "output_type": "execute_result"
    }
   ],
   "source": [
    "X_train.head(1)"
   ]
  },
  {
   "cell_type": "code",
   "execution_count": 10,
   "metadata": {},
   "outputs": [
    {
     "name": "stdout",
     "output_type": "stream",
     "text": [
      "(1979513, 78)\n",
      "(1979513,)\n",
      "(424181, 78)\n",
      "(424181,)\n",
      "(424182, 78)\n",
      "(424182,)\n"
     ]
    }
   ],
   "source": [
    "print(X_train.shape)\n",
    "print(y_train.shape)\n",
    "print(X_valid.shape)\n",
    "print(y_valid.shape)\n",
    "print(X_test.shape)\n",
    "print(y_test.shape)"
   ]
  },
  {
   "cell_type": "code",
   "execution_count": 19,
   "metadata": {},
   "outputs": [
    {
     "name": "stdout",
     "output_type": "stream",
     "text": [
      "<class 'pandas.core.frame.DataFrame'>\n",
      "<class 'numpy.ndarray'>\n"
     ]
    }
   ],
   "source": [
    "print(type(X_train))\n",
    "print(type(y_train))"
   ]
  },
  {
   "cell_type": "code",
   "execution_count": 11,
   "metadata": {},
   "outputs": [],
   "source": [
    "#X_train = X_train.values\n",
    "#X_valid = X_valid.values\n",
    "#X_test = X_test.values\n",
    "\n",
    "X_train = X_train.replace([np.inf, -np.inf], np.nan).dropna()\n",
    "X_valid = X_valid.replace([np.inf, -np.inf], np.nan).dropna()\n",
    "X_test = X_test.replace([np.inf, -np.inf], np.nan).dropna()"
   ]
  },
  {
   "cell_type": "code",
   "execution_count": 47,
   "metadata": {},
   "outputs": [],
   "source": [
    "iForest = IsolationForest(contamination = 0.50) "
   ]
  },
  {
   "cell_type": "code",
   "execution_count": null,
   "metadata": {},
   "outputs": [],
   "source": [
    "iForest.fit(X_train)"
   ]
  },
  {
   "cell_type": "code",
   "execution_count": 94,
   "metadata": {},
   "outputs": [
    {
     "data": {
      "text/plain": [
       "Counter({1.0: 1679249,\n",
       "         2.0: 128027,\n",
       "         3.0: 158930,\n",
       "         4.0: 1966,\n",
       "         5.0: 36,\n",
       "         6.0: 1507,\n",
       "         7.0: 652,\n",
       "         8.0: 21,\n",
       "         9.0: 7938,\n",
       "         10.0: 3194})"
      ]
     },
     "execution_count": 94,
     "metadata": {},
     "output_type": "execute_result"
    }
   ],
   "source": [
    "Counter(y_train)"
   ]
  },
  {
   "cell_type": "code",
   "execution_count": 128,
   "metadata": {},
   "outputs": [
    {
     "data": {
      "text/plain": [
       "15.254501594735354"
      ]
     },
     "execution_count": 128,
     "metadata": {},
     "output_type": "execute_result"
    }
   ],
   "source": [
    "(128027 + 158930 + 1966 + 36 + 1507 + 652 + 21 + 7938 + 3194)/(1679249 + (128027 + 158930 + 1966 + 36 + 1507 + 652 + 21 + 7938 + 3194) )*100"
   ]
  },
  {
   "cell_type": "code",
   "execution_count": 39,
   "metadata": {},
   "outputs": [],
   "source": [
    "scores = iForest.decision_function(X_valid)"
   ]
  },
  {
   "cell_type": "code",
   "execution_count": 15,
   "metadata": {},
   "outputs": [
    {
     "data": {
      "image/png": "[encoded data removed]",
      "text/plain": [
       "<Figure size 864x576 with 1 Axes>"
      ]
     },
     "metadata": {
      "needs_background": "light"
     },
     "output_type": "display_data"
    }
   ],
   "source": [
    "plt.figure(figsize=(12,8))\n",
    "plt.hist(scores, bins = 100, color=\"b\"); "
   ]
  },
  {
   "cell_type": "code",
   "execution_count": 22,
   "metadata": {},
   "outputs": [
    {
     "data": {
      "text/plain": [
       "Counter({1.0: 228862, 10.0: 2703, 11.0: 5796, 12.0: 5499, 13.0: 181751})"
      ]
     },
     "execution_count": 22,
     "metadata": {},
     "output_type": "execute_result"
    }
   ],
   "source": [
    "Counter(y_valid)"
   ]
  },
  {
   "cell_type": "code",
   "execution_count": 92,
   "metadata": {},
   "outputs": [],
   "source": [
    "#cutoff = -0.2"
   ]
  },
  {
   "cell_type": "code",
   "execution_count": 22,
   "metadata": {},
   "outputs": [],
   "source": [
    "#print(Counter(y_valid[cutoff>scores]))"
   ]
  },
  {
   "cell_type": "code",
   "execution_count": 97,
   "metadata": {},
   "outputs": [],
   "source": [
    "from sklearn.metrics import roc_auc_score"
   ]
  },
  {
   "cell_type": "code",
   "execution_count": 23,
   "metadata": {},
   "outputs": [],
   "source": [
    "#train_roc_auc_score = roc_auc_score((cutoff<scores), y_valid == list(y_valid[' Label'] == 1))#benign\n",
    "#print(str(train_auc_score*100)+\"%\")"
   ]
  },
  {
   "cell_type": "code",
   "execution_count": 63,
   "metadata": {},
   "outputs": [],
   "source": [
    "#score_test = iForest.decision_function(X_test)"
   ]
  },
  {
   "cell_type": "code",
   "execution_count": 40,
   "metadata": {},
   "outputs": [],
   "source": [
    "### another way\n",
    "predictions = iForest.predict(X_valid)"
   ]
  },
  {
   "cell_type": "code",
   "execution_count": 17,
   "metadata": {},
   "outputs": [
    {
     "data": {
      "text/plain": [
       "<matplotlib.collections.PathCollection at 0x1c637f5acf8>"
      ]
     },
     "execution_count": 17,
     "metadata": {},
     "output_type": "execute_result"
    },
    {
     "data": {
      "image/png": "[encoded data removed]",
      "text/plain": [
       "<Figure size 864x576 with 1 Axes>"
      ]
     },
     "metadata": {
      "needs_background": "light"
     },
     "output_type": "display_data"
    }
   ],
   "source": [
    "plt.figure(figsize=(12,8))\n",
    "plt.scatter(X_valid.values[:,0], X_valid.values[:,1], color=\"b\")"
   ]
  },
  {
   "cell_type": "code",
   "execution_count": 129,
   "metadata": {},
   "outputs": [
    {
     "data": {
      "text/plain": [
       "0.6908531793326269"
      ]
     },
     "execution_count": 129,
     "metadata": {},
     "output_type": "execute_result"
    }
   ],
   "source": [
    "(predictions < 0).mean()"
   ]
  },
  {
   "cell_type": "code",
   "execution_count": 109,
   "metadata": {},
   "outputs": [],
   "source": [
    "abn_index = np.where(predictions < 0)"
   ]
  },
  {
   "cell_type": "code",
   "execution_count": 68,
   "metadata": {},
   "outputs": [
    {
     "data": {
      "text/plain": [
       "(array([    24,     27,     48, ..., 423718, 423719, 423720], dtype=int64),)"
      ]
     },
     "execution_count": 68,
     "metadata": {},
     "output_type": "execute_result"
    }
   ],
   "source": [
    "abn_index"
   ]
  },
  {
   "cell_type": "code",
   "execution_count": 131,
   "metadata": {},
   "outputs": [
    {
     "data": {
      "text/plain": [
       "<matplotlib.collections.PathCollection at 0x23e1e6fa518>"
      ]
     },
     "execution_count": 131,
     "metadata": {},
     "output_type": "execute_result"
    },
    {
     "data": {
      "image/png": "[encoded data removed]",
      "text/plain": [
       "<Figure size 864x576 with 1 Axes>"
      ]
     },
     "metadata": {
      "needs_background": "light"
     },
     "output_type": "display_data"
    }
   ],
   "source": [
    "plt.figure(figsize=(12,8))\n",
    "plt.scatter(X_valid.values[:,0], X_valid.values[:,1], color = \"b\")\n",
    "plt.scatter(X_valid.values[abn_index,0], X_valid.values[abn_index,1] , color = \"b\", edgecolors=\"r\")"
   ]
  },
  {
   "cell_type": "code",
   "execution_count": 41,
   "metadata": {},
   "outputs": [
    {
     "data": {
      "text/plain": [
       "(143423, 28045, 201167, 51546)"
      ]
     },
     "execution_count": 41,
     "metadata": {},
     "output_type": "execute_result"
    }
   ],
   "source": [
    "perf_measure(y_valid,predictions)"
   ]
  },
  {
   "cell_type": "code",
   "execution_count": 42,
   "metadata": {},
   "outputs": [
    {
     "data": {
      "text/plain": [
       "73.26882895953491"
      ]
     },
     "execution_count": 42,
     "metadata": {},
     "output_type": "execute_result"
    }
   ],
   "source": [
    "143423/(424611-228862)*100"
   ]
  },
  {
   "cell_type": "code",
   "execution_count": 78,
   "metadata": {},
   "outputs": [
    {
     "data": {
      "text/plain": [
       "Counter({1.0: 228862, 10.0: 2703, 11.0: 5796, 12.0: 5499, 13.0: 181751})"
      ]
     },
     "execution_count": 78,
     "metadata": {},
     "output_type": "execute_result"
    }
   ],
   "source": [
    "len(anomaly)\n",
    "Counter(y_valid)"
   ]
  },
  {
   "cell_type": "code",
   "execution_count": 134,
   "metadata": {},
   "outputs": [
    {
     "data": {
      "text/plain": [
       "'99.62094314658057%'"
      ]
     },
     "execution_count": 134,
     "metadata": {},
     "output_type": "execute_result"
    }
   ],
   "source": [
    "str(  195007   / (181751 + 5499 + 5796 + 2703)*100) + \"%\""
   ]
  },
  {
   "cell_type": "code",
   "execution_count": 82,
   "metadata": {},
   "outputs": [
    {
     "data": {
      "text/plain": [
       "46.10078401171896"
      ]
     },
     "execution_count": 82,
     "metadata": {},
     "output_type": "execute_result"
    }
   ],
   "source": [
    "195749/(228862+195749)*100"
   ]
  },
  {
   "cell_type": "code",
   "execution_count": 136,
   "metadata": {},
   "outputs": [
    {
     "data": {
      "text/plain": [
       "57.23623843189346"
      ]
     },
     "execution_count": 136,
     "metadata": {},
     "output_type": "execute_result"
    }
   ],
   "source": [
    "130992   / 228862 *100"
   ]
  },
  {
   "cell_type": "code",
   "execution_count": 92,
   "metadata": {},
   "outputs": [
    {
     "data": {
      "text/plain": [
       "195749"
      ]
     },
     "execution_count": 92,
     "metadata": {},
     "output_type": "execute_result"
    }
   ],
   "source": [
    "X_valid: toplam malicious sayısı = 195749\n",
    "         tespit edilen malicious sayısı = (true positive) =  128291 (% 73.37610920106872)\n",
    "         tespit edilemeyen malicious sayısı = (false negative) = 100-73\n",
    "        tespit edilen benign sayısı = (true negative) = 216255 (% 87.60388356302052)\n",
    "        tespit edilemeyen benign sayısı = (false positive) = 100-87"
   ]
  },
  {
   "cell_type": "code",
   "execution_count": 100,
   "metadata": {},
   "outputs": [
    {
     "data": {
      "text/plain": [
       "5.443891952355568"
      ]
     },
     "execution_count": 100,
     "metadata": {},
     "output_type": "execute_result"
    }
   ],
   "source": []
  },
  {
   "cell_type": "code",
   "execution_count": 43,
   "metadata": {},
   "outputs": [],
   "source": [
    "# X_test için yapılıyor\n",
    "\n",
    "test_scores = iForest.decision_function(X_test)"
   ]
  },
  {
   "cell_type": "code",
   "execution_count": 138,
   "metadata": {},
   "outputs": [
    {
     "data": {
      "image/png": "[encoded data removed]",
      "text/plain": [
       "<Figure size 864x576 with 1 Axes>"
      ]
     },
     "metadata": {
      "needs_background": "light"
     },
     "output_type": "display_data"
    }
   ],
   "source": [
    "plt.figure(figsize=(12,8))\n",
    "plt.hist(test_scores, bins = 100, color=\"b\"); "
   ]
  },
  {
   "cell_type": "code",
   "execution_count": 44,
   "metadata": {},
   "outputs": [],
   "source": [
    "test_predictions = iForest.predict(X_test)"
   ]
  },
  {
   "cell_type": "code",
   "execution_count": 46,
   "metadata": {},
   "outputs": [
    {
     "data": {
      "text/plain": [
       "<matplotlib.collections.PathCollection at 0x23e239799e8>"
      ]
     },
     "execution_count": 46,
     "metadata": {},
     "output_type": "execute_result"
    },
    {
     "data": {
      "image/png": "[encoded data removed]",
      "text/plain": [
       "<Figure size 864x576 with 1 Axes>"
      ]
     },
     "metadata": {
      "needs_background": "light"
     },
     "output_type": "display_data"
    }
   ],
   "source": [
    "plt.figure(figsize=(12,8))\n",
    "plt.scatter(X_test.values[:,0], X_test.values[:,1], color=\"b\")"
   ]
  },
  {
   "cell_type": "code",
   "execution_count": 140,
   "metadata": {},
   "outputs": [
    {
     "data": {
      "text/plain": [
       "0.5186536108288319"
      ]
     },
     "execution_count": 140,
     "metadata": {},
     "output_type": "execute_result"
    }
   ],
   "source": [
    "(test_predictions < 0).mean()"
   ]
  },
  {
   "cell_type": "code",
   "execution_count": 48,
   "metadata": {},
   "outputs": [],
   "source": [
    "abn_index = np.where(test_predictions < 0)"
   ]
  },
  {
   "cell_type": "code",
   "execution_count": 49,
   "metadata": {},
   "outputs": [
    {
     "data": {
      "text/plain": [
       "<matplotlib.collections.PathCollection at 0x23e28d27f98>"
      ]
     },
     "execution_count": 49,
     "metadata": {},
     "output_type": "execute_result"
    },
    {
     "data": {
      "image/png": "[encoded data removed]",
      "text/plain": [
       "<Figure size 864x576 with 1 Axes>"
      ]
     },
     "metadata": {
      "needs_background": "light"
     },
     "output_type": "display_data"
    }
   ],
   "source": [
    "plt.figure(figsize=(12,8))\n",
    "plt.scatter(X_test.values[:,0], X_test.values[:,1], color = \"b\")\n",
    "plt.scatter(X_test.values[abn_index,0], X_test.values[abn_index,1] , color = \"b\", edgecolors=\"r\")"
   ]
  },
  {
   "cell_type": "code",
   "execution_count": 51,
   "metadata": {},
   "outputs": [
    {
     "data": {
      "text/plain": [
       "Counter({13.0: 49322, 1.0: 364986, 14.0: 10293, 15.0: 11})"
      ]
     },
     "execution_count": 51,
     "metadata": {},
     "output_type": "execute_result"
    }
   ],
   "source": [
    "Counter(y_test)"
   ]
  },
  {
   "cell_type": "code",
   "execution_count": 45,
   "metadata": {},
   "outputs": [
    {
     "data": {
      "text/plain": [
       "(31035, 55789, 308920, 28438)"
      ]
     },
     "execution_count": 45,
     "metadata": {},
     "output_type": "execute_result"
    }
   ],
   "source": [
    "perf_measure(y_test,test_predictions)"
   ]
  },
  {
   "cell_type": "code",
   "execution_count": null,
   "metadata": {},
   "outputs": [],
   "source": [
    "X_test: toplam malicious sayısı: 59626\n",
    "        toplam benign sayısı: 364986\n",
    "        tespit edilen malicious sayısı (true positive): 54.1005601583202\n",
    "        tespit edilemeyen malicious sayısı (false negative): 100 - 54\n",
    "        tespit edilen benign sayısı(true negative): 84.61475234666536\n",
    "            false positive = 100 - 84"
   ]
  },
  {
   "cell_type": "code",
   "execution_count": 46,
   "metadata": {},
   "outputs": [
    {
     "data": {
      "text/plain": [
       "52.04944151880052"
      ]
     },
     "execution_count": 46,
     "metadata": {},
     "output_type": "execute_result"
    }
   ],
   "source": [
    "31035  / 59626*100"
   ]
  },
  {
   "cell_type": "code",
   "execution_count": 145,
   "metadata": {},
   "outputs": [
    {
     "data": {
      "text/plain": [
       "55.93420021589869"
      ]
     },
     "execution_count": 145,
     "metadata": {},
     "output_type": "execute_result"
    }
   ],
   "source": [
    "204152  / 364986 *100"
   ]
  },
  {
   "cell_type": "code",
   "execution_count": null,
   "metadata": {},
   "outputs": [],
   "source": [
    "#contemination = auto dan .15 yapalım yarın (buraya dayanarak: https://www.youtube.com/watch?v=5p8B2Ikcw-k)"
   ]
  },
  {
   "cell_type": "code",
   "execution_count": 83,
   "metadata": {},
   "outputs": [
    {
     "data": {
      "text/plain": [
       "14.04246700517178"
      ]
     },
     "execution_count": 83,
     "metadata": {},
     "output_type": "execute_result"
    }
   ],
   "source": [
    "59626 / (59626 + 364986)*100"
   ]
  },
  {
   "cell_type": "code",
   "execution_count": 24,
   "metadata": {},
   "outputs": [],
   "source": [
    "y = df.pop(\" Label\").values"
   ]
  },
  {
   "cell_type": "code",
   "execution_count": 10,
   "metadata": {},
   "outputs": [
    {
     "data": {
      "text/plain": [
       "array([1., 1., 1., ..., 1., 1., 1.])"
      ]
     },
     "execution_count": 10,
     "metadata": {},
     "output_type": "execute_result"
    }
   ],
   "source": []
  },
  {
   "cell_type": "code",
   "execution_count": 25,
   "metadata": {},
   "outputs": [],
   "source": [
    "X = df.values"
   ]
  },
  {
   "cell_type": "code",
   "execution_count": 14,
   "metadata": {},
   "outputs": [
    {
     "data": {
      "text/plain": [
       "array([[5.486500e+04, 3.000000e+00, 2.000000e+00, ..., 0.000000e+00,\n",
       "        0.000000e+00, 0.000000e+00],\n",
       "       [5.505400e+04, 1.090000e+02, 1.000000e+00, ..., 0.000000e+00,\n",
       "        0.000000e+00, 0.000000e+00],\n",
       "       [5.505500e+04, 5.200000e+01, 1.000000e+00, ..., 0.000000e+00,\n",
       "        0.000000e+00, 0.000000e+00],\n",
       "       ...,\n",
       "       [5.803000e+04, 8.200000e+01, 2.000000e+00, ..., 0.000000e+00,\n",
       "        0.000000e+00, 0.000000e+00],\n",
       "       [5.300000e+01, 1.048635e+06, 6.000000e+00, ..., 0.000000e+00,\n",
       "        0.000000e+00, 0.000000e+00],\n",
       "       [5.300000e+01, 9.493900e+04, 4.000000e+00, ..., 0.000000e+00,\n",
       "        0.000000e+00, 0.000000e+00]])"
      ]
     },
     "execution_count": 14,
     "metadata": {},
     "output_type": "execute_result"
    }
   ],
   "source": [
    "X"
   ]
  },
  {
   "cell_type": "code",
   "execution_count": 26,
   "metadata": {},
   "outputs": [],
   "source": [
    "from sklearn.model_selection import train_test_split\n",
    "X_train, X_test, y_train, y_test = train_test_split(X, y, test_size=0.2, random_state=42)\n",
    "X_train, X_val, y_train, y_val = train_test_split(X_train, y_train, test_size=0.25, random_state=42)"
   ]
  },
  {
   "cell_type": "code",
   "execution_count": 19,
   "metadata": {},
   "outputs": [
    {
     "data": {
      "text/plain": [
       "Counter({1.0: 1363105,\n",
       "         3.0: 95220,\n",
       "         13.0: 137797,\n",
       "         2.0: 76789,\n",
       "         12.0: 3280,\n",
       "         14.0: 6189,\n",
       "         10.0: 3514,\n",
       "         9.0: 4804,\n",
       "         11.0: 3473,\n",
       "         4.0: 1204,\n",
       "         6.0: 929,\n",
       "         7.0: 383,\n",
       "         5.0: 22,\n",
       "         8.0: 10,\n",
       "         15.0: 6})"
      ]
     },
     "execution_count": 19,
     "metadata": {},
     "output_type": "execute_result"
    }
   ],
   "source": [
    "Counter(y_train)"
   ]
  },
  {
   "cell_type": "code",
   "execution_count": 22,
   "metadata": {},
   "outputs": [],
   "source": [
    "contaminationParameter = 1-(1363105/len(y_train))"
   ]
  },
  {
   "cell_type": "code",
   "execution_count": 23,
   "metadata": {},
   "outputs": [
    {
     "data": {
      "text/plain": [
       "0.19662585274573074"
      ]
     },
     "execution_count": 23,
     "metadata": {},
     "output_type": "execute_result"
    }
   ],
   "source": [
    "contaminationParameter"
   ]
  },
  {
   "cell_type": "code",
   "execution_count": 27,
   "metadata": {},
   "outputs": [],
   "source": [
    "iForest = IsolationForest(contamination=0.5)"
   ]
  },
  {
   "cell_type": "code",
   "execution_count": 28,
   "metadata": {},
   "outputs": [
    {
     "data": {
      "text/plain": [
       "IsolationForest(contamination=0.5)"
      ]
     },
     "execution_count": 28,
     "metadata": {},
     "output_type": "execute_result"
    }
   ],
   "source": [
    "iForest.fit(X_train)"
   ]
  },
  {
   "cell_type": "code",
   "execution_count": 29,
   "metadata": {},
   "outputs": [],
   "source": [
    "valid_scores = iForest.decision_function(X_val)"
   ]
  },
  {
   "cell_type": "code",
   "execution_count": 128,
   "metadata": {},
   "outputs": [
    {
     "data": {
      "image/png": "[encoded data removed]",
      "text/plain": [
       "<Figure size 1440x720 with 1 Axes>"
      ]
     },
     "metadata": {
      "needs_background": "light"
     },
     "output_type": "display_data"
    }
   ],
   "source": [
    "import matplotlib.pyplot as plt\n",
    "%matplotlib inline\n",
    "plt.figure(figsize=(20, 10))\n",
    "_ = plt.hist(valid_scores, bins=100, color=\"b\")"
   ]
  },
  {
   "cell_type": "code",
   "execution_count": 30,
   "metadata": {},
   "outputs": [],
   "source": [
    "valid_predictions = iForest.predict(X_val)"
   ]
  },
  {
   "cell_type": "code",
   "execution_count": 88,
   "metadata": {},
   "outputs": [],
   "source": [
    "abn_index = np.where(valid_predictions < 0)"
   ]
  },
  {
   "cell_type": "code",
   "execution_count": 89,
   "metadata": {
    "scrolled": false
   },
   "outputs": [
    {
     "data": {
      "text/plain": [
       "<matplotlib.collections.PathCollection at 0x2172d669b38>"
      ]
     },
     "execution_count": 89,
     "metadata": {},
     "output_type": "execute_result"
    },
    {
     "data": {
      "image/png": "[encoded data removed]",
      "text/plain": [
       "<Figure size 864x576 with 1 Axes>"
      ]
     },
     "metadata": {
      "needs_background": "light"
     },
     "output_type": "display_data"
    }
   ],
   "source": [
    "plt.figure(figsize=(12,8))\n",
    "plt.scatter(X_val[:,0], X_val[:,1], color = \"b\")"
   ]
  },
  {
   "cell_type": "code",
   "execution_count": 130,
   "metadata": {},
   "outputs": [
    {
     "data": {
      "text/plain": [
       "<matplotlib.collections.PathCollection at 0x2172df90780>"
      ]
     },
     "execution_count": 130,
     "metadata": {},
     "output_type": "execute_result"
    },
    {
     "data": {
      "image/png": "[encoded data removed]",
      "text/plain": [
       "<Figure size 864x576 with 1 Axes>"
      ]
     },
     "metadata": {
      "needs_background": "light"
     },
     "output_type": "display_data"
    }
   ],
   "source": [
    "plt.figure(figsize=(12,8))\n",
    "plt.scatter(X_val[:,0], X_val[:,1], color = \"b\")\n",
    "plt.scatter(X_val[abn_index,0], X_val[abn_index,1] , color = \"b\", edgecolors=\"r\")"
   ]
  },
  {
   "cell_type": "code",
   "execution_count": 38,
   "metadata": {},
   "outputs": [
    {
     "data": {
      "text/plain": [
       "Counter({3.0: 31872,\n",
       "         1.0: 454126,\n",
       "         13.0: 46068,\n",
       "         10.0: 1141,\n",
       "         11.0: 1177,\n",
       "         2.0: 25648,\n",
       "         14.0: 2049,\n",
       "         12.0: 1116,\n",
       "         9.0: 1561,\n",
       "         7.0: 147,\n",
       "         4.0: 366,\n",
       "         6.0: 287,\n",
       "         8.0: 6,\n",
       "         15.0: 2,\n",
       "         5.0: 9})"
      ]
     },
     "execution_count": 38,
     "metadata": {},
     "output_type": "execute_result"
    }
   ],
   "source": [
    "Counter(y_val)"
   ]
  },
  {
   "cell_type": "code",
   "execution_count": 61,
   "metadata": {},
   "outputs": [
    {
     "data": {
      "text/plain": [
       "<sklearn.metrics._plot.confusion_matrix.ConfusionMatrixDisplay at 0x224b3ed7940>"
      ]
     },
     "execution_count": 61,
     "metadata": {},
     "output_type": "execute_result"
    },
    {
     "data": {
      "image/png": "[encoded data removed]",
      "text/plain": [
       "<Figure size 432x288 with 2 Axes>"
      ]
     },
     "metadata": {
      "needs_background": "light"
     },
     "output_type": "display_data"
    }
   ],
   "source": [
    "cm=confusion_matrix(y_val, valid_predictions)\n",
    "\n",
    "cm_display = ConfusionMatrixDisplay(cm)\n",
    "cm_display.plot()"
   ]
  },
  {
   "cell_type": "code",
   "execution_count": null,
   "metadata": {},
   "outputs": [],
   "source": []
  },
  {
   "cell_type": "code",
   "execution_count": null,
   "metadata": {},
   "outputs": [],
   "source": []
  },
  {
   "cell_type": "code",
   "execution_count": 18,
   "metadata": {},
   "outputs": [],
   "source": [
    "def perf_measure(y_actual, y_hat):\n",
    "    TP = 0\n",
    "    FP = 0\n",
    "    TN = 0\n",
    "    FN = 0\n",
    "\n",
    "    for i in range(len(y_hat)): \n",
    "        if y_actual[i]!=1 and y_hat[i]== -1:\n",
    "            TP += 1\n",
    "        if y_actual[i]==1 and y_hat[i]== -1:\n",
    "            FP += 1\n",
    "            \n",
    "        if y_actual[i]== 1 and y_hat[i]== 1:\n",
    "            TN += 1\n",
    "            \n",
    "        if y_actual[i]!=1 and y_hat[i]== 1:\n",
    "            FN += 1\n",
    "            \n",
    "\n",
    "    return(TP, FP, TN, FN)"
   ]
  },
  {
   "cell_type": "code",
   "execution_count": 19,
   "metadata": {},
   "outputs": [
    {
     "ename": "NameError",
     "evalue": "name 'y_val' is not defined",
     "output_type": "error",
     "traceback": [
      "\u001b[1;31m---------------------------------------------------------------------------\u001b[0m",
      "\u001b[1;31mNameError\u001b[0m                                 Traceback (most recent call last)",
      "\u001b[1;32m<ipython-input-19-79c3ebd83826>\u001b[0m in \u001b[0;36m<module>\u001b[1;34m\u001b[0m\n\u001b[1;32m----> 1\u001b[1;33m \u001b[0mperf_measure\u001b[0m\u001b[1;33m(\u001b[0m\u001b[0my_val\u001b[0m\u001b[1;33m,\u001b[0m \u001b[0mvalid_predictions\u001b[0m\u001b[1;33m)\u001b[0m\u001b[1;33m\u001b[0m\u001b[1;33m\u001b[0m\u001b[0m\n\u001b[0m",
      "\u001b[1;31mNameError\u001b[0m: name 'y_val' is not defined"
     ]
    }
   ],
   "source": [
    "perf_measure(y_val, valid_predictions)"
   ]
  },
  {
   "cell_type": "code",
   "execution_count": null,
   "metadata": {},
   "outputs": [],
   "source": []
  },
  {
   "cell_type": "code",
   "execution_count": 111,
   "metadata": {},
   "outputs": [
    {
     "data": {
      "text/plain": [
       "Counter({3.0: 31872,\n",
       "         1.0: 454126,\n",
       "         13.0: 46068,\n",
       "         10.0: 1141,\n",
       "         11.0: 1177,\n",
       "         2.0: 25648,\n",
       "         14.0: 2049,\n",
       "         12.0: 1116,\n",
       "         9.0: 1561,\n",
       "         7.0: 147,\n",
       "         4.0: 366,\n",
       "         6.0: 287,\n",
       "         8.0: 6,\n",
       "         15.0: 2,\n",
       "         5.0: 9})"
      ]
     },
     "execution_count": 111,
     "metadata": {},
     "output_type": "execute_result"
    }
   ],
   "source": [
    "Counter(y_val)"
   ]
  },
  {
   "cell_type": "code",
   "execution_count": 145,
   "metadata": {},
   "outputs": [
    {
     "data": {
      "text/plain": [
       "63.207386338145696"
      ]
     },
     "execution_count": 145,
     "metadata": {},
     "output_type": "execute_result"
    }
   ],
   "source": [
    "70444 / (565575-454126) *100"
   ]
  },
  {
   "cell_type": "code",
   "execution_count": 60,
   "metadata": {},
   "outputs": [
    {
     "name": "stdout",
     "output_type": "stream",
     "text": [
      "[1 1 1 ... 1 1 1]\n"
     ]
    }
   ],
   "source": [
    "from sklearn.metrics import roc_auc_score\n",
    "print(valid_predictions)"
   ]
  },
  {
   "cell_type": "code",
   "execution_count": 115,
   "metadata": {},
   "outputs": [
    {
     "data": {
      "text/plain": [
       "(565575,)"
      ]
     },
     "execution_count": 115,
     "metadata": {},
     "output_type": "execute_result"
    }
   ],
   "source": [
    "y_val.shape"
   ]
  },
  {
   "cell_type": "code",
   "execution_count": 97,
   "metadata": {},
   "outputs": [
    {
     "data": {
      "text/plain": [
       "19.705432524422047"
      ]
     },
     "execution_count": 97,
     "metadata": {},
     "output_type": "execute_result"
    }
   ],
   "source": [
    "(565575-454126) / 565575*100"
   ]
  },
  {
   "cell_type": "code",
   "execution_count": 116,
   "metadata": {},
   "outputs": [
    {
     "data": {
      "text/plain": [
       "(565576,)"
      ]
     },
     "execution_count": 116,
     "metadata": {},
     "output_type": "execute_result"
    }
   ],
   "source": [
    "y_test.shape"
   ]
  },
  {
   "cell_type": "code",
   "execution_count": 117,
   "metadata": {},
   "outputs": [
    {
     "data": {
      "text/plain": [
       "(1696725,)"
      ]
     },
     "execution_count": 117,
     "metadata": {},
     "output_type": "execute_result"
    }
   ],
   "source": [
    "y_train.shape"
   ]
  },
  {
   "cell_type": "code",
   "execution_count": 118,
   "metadata": {},
   "outputs": [
    {
     "data": {
      "text/plain": [
       "Counter({1.0: 1363105,\n",
       "         3.0: 95220,\n",
       "         13.0: 137797,\n",
       "         2.0: 76789,\n",
       "         12.0: 3280,\n",
       "         14.0: 6189,\n",
       "         10.0: 3514,\n",
       "         9.0: 4804,\n",
       "         11.0: 3473,\n",
       "         4.0: 1204,\n",
       "         6.0: 929,\n",
       "         7.0: 383,\n",
       "         5.0: 22,\n",
       "         8.0: 10,\n",
       "         15.0: 6})"
      ]
     },
     "execution_count": 118,
     "metadata": {},
     "output_type": "execute_result"
    }
   ],
   "source": [
    "Counter(y_train)"
   ]
  },
  {
   "cell_type": "code",
   "execution_count": 121,
   "metadata": {},
   "outputs": [
    {
     "data": {
      "text/plain": [
       "19.662585274573075"
      ]
     },
     "execution_count": 121,
     "metadata": {},
     "output_type": "execute_result"
    }
   ],
   "source": [
    "100 -(1363105 / 1696725 *100)"
   ]
  },
  {
   "cell_type": "code",
   "execution_count": 146,
   "metadata": {},
   "outputs": [],
   "source": [
    "test_scores = iForest.decision_function(X_test)\n",
    "test_predictions = iForest.predict(X_test)"
   ]
  },
  {
   "cell_type": "code",
   "execution_count": 126,
   "metadata": {},
   "outputs": [
    {
     "data": {
      "text/plain": [
       "Counter({1.0: 454089,\n",
       "         13.0: 46259,\n",
       "         3.0: 31712,\n",
       "         4.0: 386,\n",
       "         2.0: 25588,\n",
       "         14.0: 2055,\n",
       "         7.0: 122,\n",
       "         9.0: 1570,\n",
       "         12.0: 1103,\n",
       "         11.0: 1146,\n",
       "         10.0: 1242,\n",
       "         6.0: 291,\n",
       "         5.0: 5,\n",
       "         15.0: 3,\n",
       "         8.0: 5})"
      ]
     },
     "execution_count": 126,
     "metadata": {},
     "output_type": "execute_result"
    }
   ],
   "source": [
    "Counter(y_test)"
   ]
  },
  {
   "cell_type": "code",
   "execution_count": 147,
   "metadata": {},
   "outputs": [
    {
     "data": {
      "text/plain": [
       "(70444, 211821, 242305, 41005)"
      ]
     },
     "execution_count": 147,
     "metadata": {},
     "output_type": "execute_result"
    }
   ],
   "source": [
    "perf_measure(y_val, valid_predictions)"
   ]
  },
  {
   "cell_type": "code",
   "execution_count": 148,
   "metadata": {},
   "outputs": [
    {
     "data": {
      "text/plain": [
       "63.18584229551427"
      ]
     },
     "execution_count": 148,
     "metadata": {},
     "output_type": "execute_result"
    }
   ],
   "source": [
    "70444 / (565576 - 454089)*100"
   ]
  },
  {
   "cell_type": "code",
   "execution_count": null,
   "metadata": {},
   "outputs": [],
   "source": []
  }
 ],
 "metadata": {
  "kernelspec": {
   "display_name": "venv",
   "language": "python",
   "name": "venv"
  },
  "language_info": {
   "codemirror_mode": {
    "name": "ipython",
    "version": 3
   },
   "file_extension": ".py",
   "mimetype": "text/x-python",
   "name": "python",
   "nbconvert_exporter": "python",
   "pygments_lexer": "ipython3",
   "version": "3.7.3"
  }
 },
 "nbformat": 4,
 "nbformat_minor": 4
}
